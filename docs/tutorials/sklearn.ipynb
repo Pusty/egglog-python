{
  "cells": [
    {
      "cell_type": "markdown",
      "metadata": {},
      "source": [
        "# Optimizing Scikit-Learn with Array API and Numba\n",
        "\n",
        "https://scikit-learn.org/stable/modules/array_api.html\n",
        "https://scikit-learn.org/stable/modules/lda_qda.html\n",
        "https://scikit-learn.org/stable/auto_examples/decomposition/plot_pca_vs_lda.html\n"
      ]
    },
    {
      "cell_type": "code",
      "execution_count": 12,
      "metadata": {},
      "outputs": [
        {
          "data": {
            "text/plain": [
              "array([[ 0.64233002],\n",
              "       [ 0.63661245],\n",
              "       [-1.603293  ],\n",
              "       ...,\n",
              "       [-1.1506433 ],\n",
              "       [ 0.71687176],\n",
              "       [-1.51119579]])"
            ]
          },
          "execution_count": 12,
          "metadata": {},
          "output_type": "execute_result"
        }
      ],
      "source": [
        "from egglog.exp.array_api import *\n",
        "from egglog.exp.array_api_numba import *\n",
        "from egglog.exp.array_api_program_gen import *\n",
        "from sklearn import config_context\n",
        "from sklearn.datasets import make_classification\n",
        "from sklearn.discriminant_analysis import LinearDiscriminantAnalysis\n",
        "\n",
        "\n",
        "def run_lda(x, y):\n",
        "    lda = LinearDiscriminantAnalysis()\n",
        "    return lda.fit(x, y).transform(x)\n",
        "\n",
        "\n",
        "X_np, y_np = make_classification(random_state=0, n_samples=1000000)\n",
        "run_lda(X_np, y_np)\n"
      ]
    },
    {
      "cell_type": "code",
      "execution_count": 2,
      "metadata": {},
      "outputs": [],
      "source": [
        "# %timeit run_lda(X_np, y_np)\n"
      ]
    },
    {
      "cell_type": "code",
      "execution_count": 3,
      "metadata": {},
      "outputs": [],
      "source": [
        "# %%timeit\n",
        "# with config_context(array_api_dispatch=True):\n",
        "#     run_lda(X_np, y_np)\n"
      ]
    },
    {
      "cell_type": "code",
      "execution_count": 4,
      "metadata": {},
      "outputs": [],
      "source": [
        "X_arr = NDArray.var(\"X\")\n",
        "X_orig = copy(X_arr)\n",
        "\n",
        "assume_dtype(X_arr, X_np.dtype)\n",
        "assume_shape(X_arr, X_np.shape)\n",
        "assume_isfinite(X_arr)\n",
        "\n",
        "y_arr = NDArray.var(\"y\")\n",
        "y_orig = copy(y_arr)\n",
        "\n",
        "assume_dtype(y_arr, y_np.dtype)\n",
        "assume_shape(y_arr, y_np.shape)\n",
        "assume_value_one_of(y_arr, (0, 1))\n"
      ]
    },
    {
      "cell_type": "code",
      "execution_count": 13,
      "metadata": {},
      "outputs": [],
      "source": [
        "with EGraph([array_api_module]) as egraph:\n",
        "    with config_context(array_api_dispatch=True):\n",
        "        X_r2 = run_lda(X_arr, y_arr)\n",
        "egraph = EGraph([array_api_numba_module])\n",
        "egraph.register(X_r2)\n",
        "egraph.run(10000)\n",
        "X_r2_optimized = egraph.extract(X_r2)\n"
      ]
    },
    {
      "cell_type": "code",
      "execution_count": 14,
      "metadata": {},
      "outputs": [],
      "source": [
        "egraph = EGraph([array_api_module_string])\n",
        "fn_program = ndarray_function_two(X_r2_optimized, X_orig, y_orig)\n",
        "egraph.register(fn_program)\n",
        "egraph.run(10000)\n",
        "fn = egraph.load_object(egraph.extract(fn_program.py_object))\n",
        "\n",
        "assert np.allclose(run_lda(X_np, y_np), fn(X_np, y_np))\n"
      ]
    },
    {
      "cell_type": "code",
      "execution_count": 7,
      "metadata": {},
      "outputs": [],
      "source": [
        "# egraph.display(n_inline_leaves=2, split_primitive_outputs=True)\n"
      ]
    },
    {
      "cell_type": "code",
      "execution_count": 8,
      "metadata": {},
      "outputs": [],
      "source": [
        "# %timeit fn(X_np, y_np)\n"
      ]
    },
    {
      "cell_type": "code",
      "execution_count": 15,
      "metadata": {},
      "outputs": [],
      "source": [
        "from numba.core.imputils import lower_builtin, impl_ret_untracked\n",
        "import operator\n",
        "from numba.core import types\n",
        "from numba.core.typing.templates import AbstractTemplate, signature, infer_global\n",
        "\n",
        "from llvmlite import ir\n",
        "\n",
        "\n",
        "@infer_global(operator.eq)\n",
        "class DtypeEq(AbstractTemplate):\n",
        "    def generic(self, args, kws):\n",
        "        [lhs, rhs] = args\n",
        "        if isinstance(lhs, types.DType) and isinstance(rhs, types.DType):\n",
        "            return signature(types.boolean, lhs, rhs)\n",
        "\n",
        "\n",
        "@lower_builtin(operator.eq, types.DType, types.DType)\n",
        "def const_eq_impl(context, builder, sig, args):\n",
        "    arg1, arg2 = sig.args\n",
        "    val = 1 if arg1 == arg2 else 0\n",
        "    res = ir.Constant(ir.IntType(1), val)\n",
        "    return impl_ret_untracked(context, builder, sig.return_type, res)\n"
      ]
    },
    {
      "cell_type": "code",
      "execution_count": 17,
      "metadata": {},
      "outputs": [],
      "source": [
        "from numba import njit\n",
        "\n",
        "fn_numba = njit(fn)\n",
        "assert np.allclose(run_lda(X_np, y_np), fn_numba(X_np, y_np))\n"
      ]
    },
    {
      "cell_type": "code",
      "execution_count": 18,
      "metadata": {},
      "outputs": [
        {
          "name": "stdout",
          "output_type": "stream",
          "text": [
            "1.12 s ± 36.3 ms per loop (mean ± std. dev. of 7 runs, 1 loop each)\n"
          ]
        }
      ],
      "source": [
        "%timeit fn_numba(X_np, y_np)\n"
      ]
    },
    {
      "cell_type": "code",
      "execution_count": 19,
      "metadata": {},
      "outputs": [
        {
          "name": "stdout",
          "output_type": "stream",
          "text": [
            "2.74 s ± 49.3 ms per loop (mean ± std. dev. of 7 runs, 1 loop each)\n"
          ]
        }
      ],
      "source": [
        "%timeit run_lda(X_np, y_np)\n"
      ]
    },
    {
      "cell_type": "code",
      "execution_count": 20,
      "metadata": {},
      "outputs": [
        {
          "name": "stdout",
          "output_type": "stream",
          "text": [
            "1.48 s ± 21.1 ms per loop (mean ± std. dev. of 7 runs, 1 loop each)\n"
          ]
        }
      ],
      "source": [
        "%%timeit\n",
        "with config_context(array_api_dispatch=True):\n",
        "    run_lda(X_np, y_np)\n"
      ]
    },
    {
      "cell_type": "code",
      "execution_count": 21,
      "metadata": {},
      "outputs": [
        {
          "name": "stdout",
          "output_type": "stream",
          "text": [
            "1.56 s ± 17.6 ms per loop (mean ± std. dev. of 7 runs, 1 loop each)\n"
          ]
        }
      ],
      "source": [
        "%timeit fn(X_np, y_np)\n"
      ]
    },
    {
      "cell_type": "code",
      "execution_count": null,
      "metadata": {},
      "outputs": [],
      "source": []
    }
  ],
  "metadata": {
    "kernelspec": {
      "display_name": "egg-smol-python",
      "language": "python",
      "name": "python3"
    },
    "language_info": {
      "codemirror_mode": {
        "name": "ipython",
        "version": 3
      },
      "file_extension": ".py",
      "mimetype": "text/x-python",
      "name": "python",
      "nbconvert_exporter": "python",
      "pygments_lexer": "ipython3",
      "version": "3.10.12"
    }
  },
  "nbformat": 4,
  "nbformat_minor": 2
}
