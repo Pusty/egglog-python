{
  "cells": [
    {
      "cell_type": "markdown",
      "metadata": {},
      "source": [
        "# Optimizing Scikit-Learn with Array API and Numba\n",
        "\n",
        "https://scikit-learn.org/stable/modules/array_api.html\n",
        "https://scikit-learn.org/stable/modules/lda_qda.html\n",
        "https://scikit-learn.org/stable/auto_examples/decomposition/plot_pca_vs_lda.html\n"
      ]
    },
    {
      "cell_type": "code",
      "execution_count": 1,
      "metadata": {},
      "outputs": [
        {
          "data": {
            "text/plain": [
              "array([[ 0.64233002],\n",
              "       [ 0.63661245],\n",
              "       [-1.603293  ],\n",
              "       ...,\n",
              "       [-1.1506433 ],\n",
              "       [ 0.71687176],\n",
              "       [-1.51119579]])"
            ]
          },
          "execution_count": 1,
          "metadata": {},
          "output_type": "execute_result"
        }
      ],
      "source": [
        "from egglog.exp.array_api import *\n",
        "from egglog.exp.array_api_numba import *\n",
        "from egglog.exp.array_api_program_gen import *\n",
        "from sklearn import config_context\n",
        "from sklearn.datasets import make_classification\n",
        "from sklearn.discriminant_analysis import LinearDiscriminantAnalysis\n",
        "\n",
        "\n",
        "def run_lda(x, y):\n",
        "    lda = LinearDiscriminantAnalysis()\n",
        "    return lda.fit(x, y).transform(x)\n",
        "\n",
        "\n",
        "X_np, y_np = make_classification(random_state=0, n_samples=1000000)\n",
        "run_lda(X_np, y_np)\n"
      ]
    },
    {
      "cell_type": "code",
      "execution_count": 4,
      "metadata": {},
      "outputs": [],
      "source": [
        "X_arr = NDArray.var(\"X\")\n",
        "X_orig = copy(X_arr)\n",
        "\n",
        "assume_dtype(X_arr, X_np.dtype)\n",
        "assume_shape(X_arr, X_np.shape)\n",
        "assume_isfinite(X_arr)\n",
        "\n",
        "y_arr = NDArray.var(\"y\")\n",
        "y_orig = copy(y_arr)\n",
        "\n",
        "assume_dtype(y_arr, y_np.dtype)\n",
        "assume_shape(y_arr, y_np.shape)\n",
        "assume_value_one_of(y_arr, (0, 1))\n"
      ]
    },
    {
      "cell_type": "code",
      "execution_count": 5,
      "metadata": {},
      "outputs": [],
      "source": [
        "with EGraph([array_api_module]) as egraph:\n",
        "    with config_context(array_api_dispatch=True):\n",
        "        X_r2 = run_lda(X_arr, y_arr)\n",
        "egraph = EGraph([array_api_numba_module])\n",
        "egraph.register(X_r2)\n",
        "egraph.run(10000)\n",
        "X_r2_optimized = egraph.extract(X_r2)\n"
      ]
    },
    {
      "cell_type": "code",
      "execution_count": 6,
      "metadata": {},
      "outputs": [],
      "source": [
        "egraph = EGraph([array_api_module_string])\n",
        "fn_program = ndarray_function_two(X_r2_optimized, X_orig, y_orig)\n",
        "egraph.register(fn_program)\n",
        "egraph.run(10000)\n",
        "fn = egraph.load_object(egraph.extract(fn_program.py_object))\n",
        "\n",
        "assert np.allclose(run_lda(X_np, y_np), fn(X_np, y_np))\n"
      ]
    },
    {
      "cell_type": "code",
      "execution_count": 10,
      "metadata": {},
      "outputs": [
        {
          "name": "stderr",
          "output_type": "stream",
          "text": [
            "/var/folders/xn/05ktz3056kqd9n8frgd6236h0000gn/T/.tmpLdLTvY.py:62: NumbaPerformanceWarning: '@' is faster on contiguous arrays, called on (Array(float64, 2, 'F', False, aligned=True), Array(float64, 2, 'A', False, aligned=True))\n",
            "  _51 = _39 @ _46[2].T[slice(None, None, None), slice(None, _50.item(), None)]\n"
          ]
        }
      ],
      "source": [
        "from numba import njit\n",
        "\n",
        "fn_numba = njit(fn)\n",
        "assert np.allclose(run_lda(X_np, y_np), fn_numba(X_np, y_np))\n"
      ]
    },
    {
      "cell_type": "code",
      "execution_count": 23,
      "metadata": {},
      "outputs": [
        {
          "data": {
            "text/html": [
              "<div>\n",
              "<style scoped>\n",
              "    .dataframe tbody tr th:only-of-type {\n",
              "        vertical-align: middle;\n",
              "    }\n",
              "\n",
              "    .dataframe tbody tr th {\n",
              "        vertical-align: top;\n",
              "    }\n",
              "\n",
              "    .dataframe thead th {\n",
              "        text-align: right;\n",
              "    }\n",
              "</style>\n",
              "<table border=\"1\" class=\"dataframe\">\n",
              "  <thead>\n",
              "    <tr style=\"text-align: right;\">\n",
              "      <th></th>\n",
              "      <th>sklearn</th>\n",
              "      <th>numba</th>\n",
              "      <th>array_api</th>\n",
              "      <th>sklearn_dispatch</th>\n",
              "    </tr>\n",
              "  </thead>\n",
              "  <tbody>\n",
              "    <tr>\n",
              "      <th>0</th>\n",
              "      <td>2.876868</td>\n",
              "      <td>1.094412</td>\n",
              "      <td>1.461843</td>\n",
              "      <td>1.382058</td>\n",
              "    </tr>\n",
              "    <tr>\n",
              "      <th>1</th>\n",
              "      <td>2.706290</td>\n",
              "      <td>1.142791</td>\n",
              "      <td>1.509948</td>\n",
              "      <td>1.466938</td>\n",
              "    </tr>\n",
              "    <tr>\n",
              "      <th>2</th>\n",
              "      <td>2.853351</td>\n",
              "      <td>1.129803</td>\n",
              "      <td>1.473648</td>\n",
              "      <td>1.454945</td>\n",
              "    </tr>\n",
              "    <tr>\n",
              "      <th>3</th>\n",
              "      <td>2.720352</td>\n",
              "      <td>1.066502</td>\n",
              "      <td>1.487564</td>\n",
              "      <td>1.441763</td>\n",
              "    </tr>\n",
              "    <tr>\n",
              "      <th>4</th>\n",
              "      <td>2.649939</td>\n",
              "      <td>1.062415</td>\n",
              "      <td>1.498319</td>\n",
              "      <td>1.477961</td>\n",
              "    </tr>\n",
              "    <tr>\n",
              "      <th>5</th>\n",
              "      <td>2.612419</td>\n",
              "      <td>1.064383</td>\n",
              "      <td>1.475330</td>\n",
              "      <td>1.402335</td>\n",
              "    </tr>\n",
              "    <tr>\n",
              "      <th>6</th>\n",
              "      <td>2.617866</td>\n",
              "      <td>1.057387</td>\n",
              "      <td>1.486030</td>\n",
              "      <td>1.421148</td>\n",
              "    </tr>\n",
              "    <tr>\n",
              "      <th>7</th>\n",
              "      <td>2.696055</td>\n",
              "      <td>1.079144</td>\n",
              "      <td>1.475846</td>\n",
              "      <td>1.404037</td>\n",
              "    </tr>\n",
              "    <tr>\n",
              "      <th>8</th>\n",
              "      <td>2.641883</td>\n",
              "      <td>1.074097</td>\n",
              "      <td>1.501948</td>\n",
              "      <td>1.417458</td>\n",
              "    </tr>\n",
              "    <tr>\n",
              "      <th>9</th>\n",
              "      <td>2.681767</td>\n",
              "      <td>1.068637</td>\n",
              "      <td>1.504428</td>\n",
              "      <td>1.421889</td>\n",
              "    </tr>\n",
              "  </tbody>\n",
              "</table>\n",
              "</div>"
            ],
            "text/plain": [
              "    sklearn     numba  array_api  sklearn_dispatch\n",
              "0  2.876868  1.094412   1.461843          1.382058\n",
              "1  2.706290  1.142791   1.509948          1.466938\n",
              "2  2.853351  1.129803   1.473648          1.454945\n",
              "3  2.720352  1.066502   1.487564          1.441763\n",
              "4  2.649939  1.062415   1.498319          1.477961\n",
              "5  2.612419  1.064383   1.475330          1.402335\n",
              "6  2.617866  1.057387   1.486030          1.421148\n",
              "7  2.696055  1.079144   1.475846          1.404037\n",
              "8  2.641883  1.074097   1.501948          1.417458\n",
              "9  2.681767  1.068637   1.504428          1.421889"
            ]
          },
          "execution_count": 23,
          "metadata": {},
          "output_type": "execute_result"
        }
      ],
      "source": [
        "import timeit\n",
        "import pandas as pd\n",
        "\n",
        "stmts = {\n",
        "    \"sklearn\": \"run_lda(X_np, y_np)\",\n",
        "    \"sklearn_dispatch\": \"with config_context(array_api_dispatch=True):\\n    run_lda(X_np, y_np)\",\n",
        "    \"array_api\": \"fn(X_np, y_np)\",\n",
        "    \"numba\": \"fn_numba(X_np, y_np)\",\n",
        "}\n",
        "df = pd.DataFrame.from_dict(\n",
        "    {name: timeit.repeat(stmt, globals=globals(), number=1, repeat=10) for name, stmt in stmts.items()}\n",
        ")\n",
        "\n",
        "df\n"
      ]
    },
    {
      "cell_type": "code",
      "execution_count": 28,
      "metadata": {},
      "outputs": [
        {
          "data": {
            "text/plain": [
              "sklearn             2.705679\n",
              "numba               1.083957\n",
              "array_api           1.487490\n",
              "sklearn_dispatch    1.429053\n",
              "dtype: float64"
            ]
          },
          "execution_count": 28,
          "metadata": {},
          "output_type": "execute_result"
        }
      ],
      "source": [
        "df.mean()\n"
      ]
    },
    {
      "cell_type": "code",
      "execution_count": 27,
      "metadata": {},
      "outputs": [
        {
          "name": "stderr",
          "output_type": "stream",
          "text": [
            "/usr/local/Caskroom/miniconda/base/envs/egg-smol-python/lib/python3.10/site-packages/seaborn/axisgrid.py:123: UserWarning: The figure layout has changed to tight\n",
            "  self._figure.tight_layout(*args, **kwargs)\n"
          ]
        },
        {
          "data": {
            "text/plain": [
              "<seaborn.axisgrid.FacetGrid at 0x15b903fd0>"
            ]
          },
          "execution_count": 27,
          "metadata": {},
          "output_type": "execute_result"
        },
        {
          "data": {
            "image/png": "[encoded data removed]",
            "text/plain": [
              "<Figure size 500x500 with 1 Axes>"
            ]
          },
          "metadata": {},
          "output_type": "display_data"
        }
      ],
      "source": [
        "import seaborn as sns\n",
        "\n",
        "df_melt = pd.melt(df, var_name=\"type\", value_name=\"time\")\n",
        "sns.catplot(data=df_melt, x=\"type\", y=\"time\", kind=\"swarm\")\n"
      ]
    },
    {
      "cell_type": "code",
      "execution_count": null,
      "metadata": {},
      "outputs": [],
      "source": [
        "# %load_ext line_profiler\n",
        "# %lprun -f fn fn(X_np, y_np)\n"
      ]
    },
    {
      "cell_type": "code",
      "execution_count": null,
      "metadata": {},
      "outputs": [],
      "source": []
    }
  ],
  "metadata": {
    "kernelspec": {
      "display_name": "egg-smol-python",
      "language": "python",
      "name": "python3"
    },
    "language_info": {
      "codemirror_mode": {
        "name": "ipython",
        "version": 3
      },
      "file_extension": ".py",
      "mimetype": "text/x-python",
      "name": "python",
      "nbconvert_exporter": "python",
      "pygments_lexer": "ipython3",
      "version": "3.10.12"
    }
  },
  "nbformat": 4,
  "nbformat_minor": 2
}
