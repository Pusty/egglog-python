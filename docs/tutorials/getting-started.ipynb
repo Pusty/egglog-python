{
  "cells": [
    {
      "attachments": {},
      "cell_type": "markdown",
      "id": "ffabb623",
      "metadata": {
        "tags": []
      },
      "source": [
        "# Getting Started - Matrix Multiplication\n",
        "\n",
        "In this tutorial, you will learn how to:\n",
        "\n",
        "1. Install `egg-smol` Python\n",
        "2. Create a representation for matrices and some simplification rules for them. This will be based off of the [matrix multiplication example](https://github.com/mwillsey/egg-smol/blob/08a6e8f/tests/matrix.egg) in the egg-smol repository. By using our high level wrapper, we can rely on Python's built in static type checker to check the correctness of your representation.\n",
        "3. Try out using our library in an interactive notebook.\n",
        "\n",
        "## Install egg-smol Python\n",
        "\n",
        "First, you will need to have a working Python interpreter. In this tutorial, we will [use `miniconda`](https://docs.conda.io/en/latest/miniconda.html) to create a new Python environment and activate it:\n",
        "\n",
        "```bash\n",
        "$ brew install miniconda\n",
        "$ conda create -n egg-smol-python python=3.11\n",
        "$ conda activate egg-smol-python\n",
        "```\n",
        "\n",
        "Then we want to install `egg-smol` Python. `egg-smol` Python can run on any recent Python version, and is tested on 3.8 - 3.11. To install it, run:\n",
        "\n",
        "```bash\n",
        "$ pip install egg-smol\n",
        "```\n",
        "\n",
        "To test you have installed it correctly, run:\n",
        "\n",
        "```bash\n",
        "$ python -m 'import egg_smol'\n",
        "```\n",
        "\n",
        "We also want to install `mypy` for static type checking. This is not required, but it will help us write correct representations. To install it, run:\n",
        "\n",
        "```bash\n",
        "$ pip install mypy\n",
        "```\n",
        "\n",
        "## Creating an E-Graph\n",
        "\n",
        "In this tutorial, we will use [VS Code](https://code.visualstudio.com/) to create file, `matrix.py`, to include our egraph\n",
        "and the simplification rules:"
      ]
    },
    {
      "cell_type": "code",
      "execution_count": 2,
      "id": "7369b71b",
      "metadata": {},
      "outputs": [],
      "source": [
        "from __future__ import annotations\n",
        "\n",
        "from egg_smol import *\n",
        "\n",
        "egraph = EGraph()"
      ]
    },
    {
      "attachments": {},
      "cell_type": "markdown",
      "id": "814a51c5",
      "metadata": {},
      "source": [
        "## Defining Dimensions\n",
        "\n",
        "We will start by defining a representation for integers, which we will use to represent\n",
        "the dimensions of the matrix:"
      ]
    },
    {
      "cell_type": "code",
      "execution_count": 3,
      "id": "04fa991a",
      "metadata": {},
      "outputs": [],
      "source": [
        "@egraph.class_\n",
        "class Dim(BaseExpr):\n",
        "    \"\"\"\n",
        "    A dimension of a matix.\n",
        "\n",
        "    >>> Dim(3) * Dim.named(\"n\")\n",
        "    Dim(3) * Dim.named(\"n\")\n",
        "    \"\"\"\n",
        "    def __init__(self, value: i64Like) -> None:\n",
        "        ...\n",
        "\n",
        "    @classmethod\n",
        "    def named(cls, name: StringLike) -> Dim:\n",
        "        ...\n",
        "\n",
        "    def __mul__(self, other: Dim) -> Dim:\n",
        "        ..."
      ]
    },
    {
      "attachments": {},
      "cell_type": "markdown",
      "id": "f5098a2b",
      "metadata": {
        "tags": []
      },
      "source": [
        "As you can see, you must wrap any class with the `egraph.class_` to register\n",
        "it with the egraph and be able to use it like a Python class.\n",
        "\n",
        "### Testing in a notebook\n",
        "\n",
        "We can try out this by [creating a new notebook](https://code.visualstudio.com/docs/datascience/jupyter-notebooks#_create-or-open-a-jupyter-notebook) which imports this file:\n",
        "    \n",
        "```python\n",
        "from matrix import *\n",
        "```"
      ]
    },
    {
      "attachments": {},
      "cell_type": "markdown",
      "id": "fd43c7ef",
      "metadata": {},
      "source": [
        "We can then create a new `Dim` object:"
      ]
    },
    {
      "cell_type": "code",
      "execution_count": 6,
      "id": "b6424530",
      "metadata": {},
      "outputs": [
        {
          "data": {
            "text/plain": [
              "(Dim.named(\"x\") * Dim(10)) * Dim(10)"
            ]
          },
          "execution_count": 6,
          "metadata": {},
          "output_type": "execute_result"
        }
      ],
      "source": [
        "x = Dim.named(\"x\")\n",
        "ten = Dim(10)\n",
        "res = x * ten * ten\n",
        "res"
      ]
    },
    {
      "attachments": {},
      "cell_type": "markdown",
      "id": "ef5ebb16",
      "metadata": {},
      "source": [
        "We see that the output is not evaluated, it's just a representation of the computation as well as the type. This is because we haven't defined any simplification rules yet.\n",
        "\n",
        "We can also try to create a dimension from an invalid type, or use it in an invalid way, we get a type error before we even run the code:\n",
        "\n",
        "```python\n",
        "x - ten\n",
        "```\n",
        "\n",
        "![Screenshot of VS Code showing a type error](./screenshot-1.png)\n",
        "\n",
        "## Dimension Replacements\n",
        "\n",
        "Now we will register some replacements for our dimensions and see how we can interface with egg to get it\n",
        "to execute them."
      ]
    },
    {
      "cell_type": "code",
      "execution_count": 4,
      "id": "b06b1749",
      "metadata": {},
      "outputs": [],
      "source": [
        "a, b, c = vars_(\"a b c\", Dim)\n",
        "i, j = vars_(\"i j\", i64)\n",
        "egraph.register(\n",
        "    rewrite(a * (b * c)).to((a * b) * c),\n",
        "    rewrite((a * b) * c).to(a * (b * c)),\n",
        "    rewrite(Dim(i) * Dim(j)).to(Dim(i * j)),\n",
        "    rewrite(a * b).to(b * a),\n",
        ")"
      ]
    },
    {
      "cell_type": "markdown",
      "id": "167722d1-60b8-452a-ae54-6a8df4db5b00",
      "metadata": {},
      "source": [
        "You might notice that unlike a traditional term rewriting system, we don't specify any order for these rewrites. They will be executed until the graph is fully saturated, meaning that no new terms are created."
      ]
    },
    {
      "attachments": {},
      "cell_type": "markdown",
      "id": "a4d2c911",
      "metadata": {},
      "source": [
        "We can also see how the type checking can help us. If we try to create a rewrite from a `Dim` to an `i64` we see that we get a type error:\n",
        "\n",
        "![Screenshot of VS Code showing a type error](./screenshot-2.png)"
      ]
    },
    {
      "attachments": {},
      "cell_type": "markdown",
      "id": "76dc1672-dba6-44ab-b9f1-aa01de685fb1",
      "metadata": {},
      "source": [
        "### Testing\n",
        "Going back to the notebook, we can test out the that the rewrites are working:\n",
        "We first have to define our expression, so that it exists in the egraph. We give it a high cost, so that when extracting the best expression, it will avoid the variable itself and instead choose some other equivalent expression:"
      ]
    },
    {
      "cell_type": "code",
      "execution_count": 7,
      "id": "29c6d0c1-3249-4597-9d01-ec1fb29dd13f",
      "metadata": {
        "tags": []
      },
      "outputs": [],
      "source": [
        "res_var = egraph.define(\"res\", res, cost=10)"
      ]
    },
    {
      "cell_type": "markdown",
      "id": "5dc24d6e-8145-4ab3-b114-024dbb53323f",
      "metadata": {},
      "source": [
        "We can then run some number of iterations and extract out the lowest cost expression which is equivalent to our variable:"
      ]
    },
    {
      "cell_type": "code",
      "execution_count": 8,
      "id": "31afa12e-da68-4398-91fa-14523f6c099a",
      "metadata": {
        "tags": []
      },
      "outputs": [
        {
          "data": {
            "text/plain": [
              "Dim.named(\"x\") * Dim(100)"
            ]
          },
          "execution_count": 8,
          "metadata": {},
          "output_type": "execute_result"
        }
      ],
      "source": [
        "egraph.run(10)\n",
        "egraph.extract(res_var)"
      ]
    },
    {
      "cell_type": "markdown",
      "id": "bd08d366-0ebe-4e43-b219-b57fbb13534d",
      "metadata": {},
      "source": [
        "We can also extract a number of variants to see all the equivalent expresions, ordered by their cost:"
      ]
    },
    {
      "cell_type": "code",
      "execution_count": 9,
      "id": "17e39076-0257-4bcd-b1c4-04eb5a79791e",
      "metadata": {
        "tags": []
      },
      "outputs": [
        {
          "data": {
            "text/plain": [
              "[Dim(100) * Dim.named(\"x\"),\n",
              " Dim.named(\"x\") * Dim(100),\n",
              " Dim(10) * (Dim.named(\"x\") * Dim(10)),\n",
              " (Dim.named(\"x\") * Dim(10)) * Dim(10),\n",
              " res]"
            ]
          },
          "execution_count": 9,
          "metadata": {},
          "output_type": "execute_result"
        }
      ],
      "source": [
        "egraph.extract_multiple(res_var, 10)"
      ]
    },
    {
      "cell_type": "code",
      "execution_count": null,
      "id": "7e44104c-d87b-441d-a717-92d42aab9d37",
      "metadata": {},
      "outputs": [],
      "source": []
    }
  ],
  "metadata": {
    "file_format": "mystnb",
    "kernelspec": {
      "display_name": "Python 3 (ipykernel)",
      "language": "python",
      "name": "python3"
    },
    "language_info": {
      "codemirror_mode": {
        "name": "ipython",
        "version": 3
      },
      "file_extension": ".py",
      "mimetype": "text/x-python",
      "name": "python",
      "nbconvert_exporter": "python",
      "pygments_lexer": "ipython3",
      "version": "3.10.9"
    }
  },
  "nbformat": 4,
  "nbformat_minor": 5
}
