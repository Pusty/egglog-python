{
  "cells": [
    {
      "cell_type": "markdown",
      "metadata": {
        "editable": true,
        "slideshow": {
          "slide_type": ""
        },
        "tags": []
      },
      "source": [
        "# Implenting an Array API to use with Scikit-learn\n",
        "\n",
        "\n",
        "In this tutorial, we will create an object that implements the Array API and use it in the `LinearDiscriminantAnalysis` example that is in the [scikit-learn docs](https://scikit-learn.org/stable/modules/array_api.html)."
      ]
    },
    {
      "cell_type": "markdown",
      "metadata": {},
      "source": [
        "First, let's try LDA with normal numpy arrays.\n",
        "\n",
        "We take a set of input vector and reduce the dimensionality to 1."
      ]
    },
    {
      "cell_type": "code",
      "execution_count": 1,
      "metadata": {},
      "outputs": [],
      "source": [
        "import matplotlib.pyplot as plt\n",
        "\n",
        "from sklearn import datasets\n",
        "from sklearn.discriminant_analysis import LinearDiscriminantAnalysis\n",
        "from sklearn import config_context\n",
        "\n",
        "iris = datasets.load_iris()\n",
        "\n",
        "X = iris.data\n",
        "y = iris.target\n",
        "\n",
        "def fit(X, y):\n",
        "    with config_context(array_api_dispatch=True):\n",
        "        lda = LinearDiscriminantAnalysis(n_components=2)\n",
        "        X_r2 = lda.fit(X, y).transform(X)\n",
        "        return X_r2\n",
        "\n",
        "    target_names = iris.target_names\n",
        "    plt.figure()\n",
        "    colors = [\"navy\", \"turquoise\", \"darkorange\"]\n",
        "\n",
        "    plt.figure()\n",
        "    for color, i, target_name in zip(colors, [0, 1, 2], target_names):\n",
        "        plt.scatter(\n",
        "            X_r2[y == i, 0], X_r2[y == i, 1], alpha=0.8, color=color, label=target_name\n",
        "        )\n",
        "    plt.legend(loc=\"best\", shadow=False, scatterpoints=1)\n",
        "    plt.title(\"LDA of IRIS dataset\")\n",
        "\n",
        "    plt.show()\n",
        "# fit(X, y)"
      ]
    },
    {
      "cell_type": "code",
      "execution_count": 2,
      "metadata": {},
      "outputs": [],
      "source": [
        "# import torch\n",
        "\n",
        "# fit(torch.asarray(X), torch.asarray(y))"
      ]
    },
    {
      "cell_type": "markdown",
      "metadata": {},
      "source": [
        "Now let's try to make a NDArray object that implements the Array API."
      ]
    },
    {
      "cell_type": "code",
      "execution_count": 3,
      "metadata": {},
      "outputs": [],
      "source": [
        "%load_ext autoreload\n",
        "%autoreload 2"
      ]
    },
    {
      "cell_type": "code",
      "execution_count": 4,
      "metadata": {
        "scrolled": true
      },
      "outputs": [
        {
          "name": "stdout",
          "output_type": "stream",
          "text": [
            "[AddRuleset('runtime')]\n",
            "[Sort('Bool', None)]\n",
            "[Function(FunctionDecl('Bool_to_py', Schema(['Bool'], 'PyObject'), None, None, [], None, False))]\n",
            "[Function(FunctionDecl('Bool___or__', Schema(['Bool', 'Bool'], 'Bool'), None, None, [], None, False))]\n",
            "[Function(FunctionDecl('TRUE', Schema([], 'Bool'), None, None, [], None, False))]\n",
            "[Function(FunctionDecl('FALSE', Schema([], 'Bool'), None, None, [], None, False))]\n",
            "[ActionCommand(Set('Bool_to_py', [Call('TRUE', [])], Call('py-object', [Lit(Int(270305980)), Lit(Int(1))]))), ActionCommand(Set('Bool_to_py', [Call('FALSE', [])], Call('py-object', [Lit(Int(270305980)), Lit(Int(0))]))), RewriteCommand('', Rewrite(Call('Bool___or__', [Call('TRUE', []), Var('x')]), Call('TRUE', []), [])), RewriteCommand('', Rewrite(Call('Bool___or__', [Call('FALSE', []), Var('x')]), Var('x'), []))]\n",
            "[Sort('DType', None)]\n",
            "[Function(FunctionDecl('DType_float64', Schema([], 'DType'), None, None, [], None, False))]\n",
            "[Function(FunctionDecl('DType_float32', Schema([], 'DType'), None, None, [], None, False))]\n",
            "[Function(FunctionDecl('DType_int64', Schema([], 'DType'), None, None, [], None, False))]\n",
            "[Function(FunctionDecl('DType_int32', Schema([], 'DType'), None, None, [], None, False))]\n",
            "[Function(FunctionDecl('DType_object', Schema([], 'DType'), None, None, [], None, False))]\n",
            "[Function(FunctionDecl('DType___eq__', Schema(['DType', 'DType'], 'Bool'), None, None, [], None, False))]\n",
            "[RewriteCommand('', Rewrite(Call('DType___eq__', [Call('DType_float64', []), Call('DType_float64', [])]), Call('TRUE', []), [])), RewriteCommand('', Rewrite(Call('DType___eq__', [Call('DType_float64', []), Call('DType_float32', [])]), Call('FALSE', []), [])), RewriteCommand('', Rewrite(Call('DType___eq__', [Call('DType_float64', []), Call('DType_int32', [])]), Call('FALSE', []), [])), RewriteCommand('', Rewrite(Call('DType___eq__', [Call('DType_float64', []), Call('DType_int64', [])]), Call('FALSE', []), [])), RewriteCommand('', Rewrite(Call('DType___eq__', [Call('DType_float64', []), Call('DType_object', [])]), Call('FALSE', []), [])), RewriteCommand('', Rewrite(Call('DType___eq__', [Call('DType_float32', []), Call('DType_float64', [])]), Call('FALSE', []), [])), RewriteCommand('', Rewrite(Call('DType___eq__', [Call('DType_float32', []), Call('DType_float32', [])]), Call('TRUE', []), [])), RewriteCommand('', Rewrite(Call('DType___eq__', [Call('DType_float32', []), Call('DType_int32', [])]), Call('FALSE', []), [])), RewriteCommand('', Rewrite(Call('DType___eq__', [Call('DType_float32', []), Call('DType_int64', [])]), Call('FALSE', []), [])), RewriteCommand('', Rewrite(Call('DType___eq__', [Call('DType_float32', []), Call('DType_object', [])]), Call('FALSE', []), [])), RewriteCommand('', Rewrite(Call('DType___eq__', [Call('DType_int32', []), Call('DType_float64', [])]), Call('FALSE', []), [])), RewriteCommand('', Rewrite(Call('DType___eq__', [Call('DType_int32', []), Call('DType_float32', [])]), Call('FALSE', []), [])), RewriteCommand('', Rewrite(Call('DType___eq__', [Call('DType_int32', []), Call('DType_int32', [])]), Call('TRUE', []), [])), RewriteCommand('', Rewrite(Call('DType___eq__', [Call('DType_int32', []), Call('DType_int64', [])]), Call('FALSE', []), [])), RewriteCommand('', Rewrite(Call('DType___eq__', [Call('DType_int32', []), Call('DType_object', [])]), Call('FALSE', []), [])), RewriteCommand('', Rewrite(Call('DType___eq__', [Call('DType_int64', []), Call('DType_float64', [])]), Call('FALSE', []), [])), RewriteCommand('', Rewrite(Call('DType___eq__', [Call('DType_int64', []), Call('DType_float32', [])]), Call('FALSE', []), [])), RewriteCommand('', Rewrite(Call('DType___eq__', [Call('DType_int64', []), Call('DType_int32', [])]), Call('FALSE', []), [])), RewriteCommand('', Rewrite(Call('DType___eq__', [Call('DType_int64', []), Call('DType_int64', [])]), Call('TRUE', []), [])), RewriteCommand('', Rewrite(Call('DType___eq__', [Call('DType_int64', []), Call('DType_object', [])]), Call('FALSE', []), [])), RewriteCommand('', Rewrite(Call('DType___eq__', [Call('DType_object', []), Call('DType_float64', [])]), Call('FALSE', []), [])), RewriteCommand('', Rewrite(Call('DType___eq__', [Call('DType_object', []), Call('DType_float32', [])]), Call('FALSE', []), [])), RewriteCommand('', Rewrite(Call('DType___eq__', [Call('DType_object', []), Call('DType_int32', [])]), Call('FALSE', []), [])), RewriteCommand('', Rewrite(Call('DType___eq__', [Call('DType_object', []), Call('DType_int64', [])]), Call('FALSE', []), [])), RewriteCommand('', Rewrite(Call('DType___eq__', [Call('DType_object', []), Call('DType_object', [])]), Call('TRUE', []), []))]\n",
            "[Sort('IsDtypeKind', None)]\n",
            "[Function(FunctionDecl('IsDtypeKind_NULL', Schema([], 'IsDtypeKind'), None, None, [], None, False))]\n",
            "[Function(FunctionDecl('IsDtypeKind_string', Schema(['String'], 'IsDtypeKind'), None, None, [], None, False))]\n",
            "[Function(FunctionDecl('IsDtypeKind_dtype', Schema(['DType'], 'IsDtypeKind'), None, None, [], None, False))]\n",
            "[Function(FunctionDecl('IsDtypeKind___or__', Schema(['IsDtypeKind', 'IsDtypeKind'], 'IsDtypeKind'), None, None, [], 10, False))]\n",
            "[Function(FunctionDecl('isdtype', Schema(['DType', 'IsDtypeKind'], 'Bool'), None, None, [], None, False))]\n",
            "[RewriteCommand('', Rewrite(Call('isdtype', [Call('DType_float32', []), Call('IsDtypeKind_string', [Lit(String('integral'))])]), Call('FALSE', []), [])), RewriteCommand('', Rewrite(Call('isdtype', [Call('DType_float64', []), Call('IsDtypeKind_string', [Lit(String('integral'))])]), Call('FALSE', []), [])), RewriteCommand('', Rewrite(Call('isdtype', [Call('DType_object', []), Call('IsDtypeKind_string', [Lit(String('integral'))])]), Call('FALSE', []), [])), RewriteCommand('', Rewrite(Call('isdtype', [Call('DType_int64', []), Call('IsDtypeKind_string', [Lit(String('integral'))])]), Call('TRUE', []), [])), RewriteCommand('', Rewrite(Call('isdtype', [Call('DType_int32', []), Call('IsDtypeKind_string', [Lit(String('integral'))])]), Call('TRUE', []), [])), RewriteCommand('', Rewrite(Call('isdtype', [Call('DType_float32', []), Call('IsDtypeKind_string', [Lit(String('real floating'))])]), Call('TRUE', []), [])), RewriteCommand('', Rewrite(Call('isdtype', [Call('DType_float64', []), Call('IsDtypeKind_string', [Lit(String('real floating'))])]), Call('TRUE', []), [])), RewriteCommand('', Rewrite(Call('isdtype', [Call('DType_object', []), Call('IsDtypeKind_string', [Lit(String('real floating'))])]), Call('FALSE', []), [])), RewriteCommand('', Rewrite(Call('isdtype', [Call('DType_int64', []), Call('IsDtypeKind_string', [Lit(String('real floating'))])]), Call('FALSE', []), [])), RewriteCommand('', Rewrite(Call('isdtype', [Call('DType_int32', []), Call('IsDtypeKind_string', [Lit(String('real floating'))])]), Call('FALSE', []), [])), RewriteCommand('', Rewrite(Call('isdtype', [Call('DType_float32', []), Call('IsDtypeKind_string', [Lit(String('complex floating'))])]), Call('FALSE', []), [])), RewriteCommand('', Rewrite(Call('isdtype', [Call('DType_float64', []), Call('IsDtypeKind_string', [Lit(String('complex floating'))])]), Call('FALSE', []), [])), RewriteCommand('', Rewrite(Call('isdtype', [Call('DType_object', []), Call('IsDtypeKind_string', [Lit(String('complex floating'))])]), Call('FALSE', []), [])), RewriteCommand('', Rewrite(Call('isdtype', [Call('DType_int64', []), Call('IsDtypeKind_string', [Lit(String('complex floating'))])]), Call('FALSE', []), [])), RewriteCommand('', Rewrite(Call('isdtype', [Call('DType_int32', []), Call('IsDtypeKind_string', [Lit(String('complex floating'))])]), Call('FALSE', []), [])), RewriteCommand('', Rewrite(Call('isdtype', [Var('d'), Call('IsDtypeKind_NULL', [])]), Call('FALSE', []), [])), RewriteCommand('', Rewrite(Call('isdtype', [Var('d'), Call('IsDtypeKind_dtype', [Var('d')])]), Call('TRUE', []), [])), RewriteCommand('', Rewrite(Call('isdtype', [Var('d'), Call('IsDtypeKind___or__', [Var('k1'), Var('k2')])]), Call('Bool___or__', [Call('isdtype', [Var('d'), Var('k1')]), Call('isdtype', [Var('d'), Var('k2')])]), [])), RewriteCommand('', Rewrite(Call('IsDtypeKind___or__', [Var('k1'), Call('IsDtypeKind_NULL', [])]), Var('k1'), []))]\n",
            "isdtype(DType.float32, IsDtypeKind.string(\"integral\"))\n",
            "[ActionCommand(Expr_(Call('isdtype', [Call('DType_float32', []), Call('IsDtypeKind_string', [Lit(String('integral'))])])))]\n",
            "[RunSchedule(Saturate(Run(RunConfig('', None))))]\n",
            "[ActionCommand(Extract(Call('isdtype', [Call('DType_float32', []), Call('IsDtypeKind_string', [Lit(String('integral'))])]), Lit(Int(0))))]\n",
            "  -> FALSE\n",
            "[RunSchedule(Saturate(Sequence([Run(RunConfig('runtime', None)), Run(RunConfig('', None))])))]\n",
            "[ActionCommand(Extract(Call('FALSE', []), Lit(Int(0))))]\n",
            "     -> FALSE\n",
            "\n",
            "[ActionCommand(Extract(Call('Bool_to_py', [Call('FALSE', [])]), Lit(Int(0))))]\n",
            "[Sort('Float', None)]\n",
            "[Function(FunctionDecl('Float___init__', Schema(['f64'], 'Float'), None, None, [], None, False))]\n",
            "[Function(FunctionDecl('Float_abs', Schema(['Float'], 'Float'), None, None, [], None, False))]\n",
            "[RewriteCommand('', Rewrite(Call('Float_abs', [Call('Float___init__', [Var('f')])]), Call('Float___init__', [Var('f')]), [Fact(Call('>=', [Var('f'), Lit(F64(0.0))]))])), RewriteCommand('', Rewrite(Call('Float_abs', [Call('Float___init__', [Var('f')])]), Call('Float___init__', [Call('neg', [Var('f')])]), [Fact(Call('<', [Var('f'), Lit(F64(0.0))]))]))]\n",
            "[Sort('Int', None)]\n",
            "[Function(FunctionDecl('Int___init__', Schema(['i64'], 'Int'), None, None, [], None, False))]\n",
            "[Function(FunctionDecl('Int___invert__', Schema(['Int'], 'Int'), None, None, [], None, False))]\n",
            "[Function(FunctionDecl('Int___lt__', Schema(['Int', 'Int'], 'Bool'), None, None, [], None, False))]\n",
            "[Function(FunctionDecl('Int___le__', Schema(['Int', 'Int'], 'Bool'), None, None, [], None, False))]\n",
            "[Function(FunctionDecl('Int___eq__', Schema(['Int', 'Int'], 'Bool'), None, None, [], None, False))]\n",
            "[Function(FunctionDecl('Int___gt__', Schema(['Int', 'Int'], 'Bool'), None, None, [], None, False))]\n",
            "[Function(FunctionDecl('Int___ge__', Schema(['Int', 'Int'], 'Bool'), None, None, [], None, False))]\n",
            "[Function(FunctionDecl('Int___add__', Schema(['Int', 'Int'], 'Int'), None, None, [], None, False))]\n",
            "[Function(FunctionDecl('Int___sub__', Schema(['Int', 'Int'], 'Int'), None, None, [], None, False))]\n",
            "[Function(FunctionDecl('Int___mul__', Schema(['Int', 'Int'], 'Int'), None, None, [], None, False))]\n",
            "[Function(FunctionDecl('Int___matmul__', Schema(['Int', 'Int'], 'Int'), None, None, [], None, False))]\n",
            "[Function(FunctionDecl('Int___truediv__', Schema(['Int', 'Int'], 'Int'), None, None, [], None, False))]\n",
            "[Function(FunctionDecl('Int___floordiv__', Schema(['Int', 'Int'], 'Int'), None, None, [], None, False))]\n",
            "[Function(FunctionDecl('Int___mod__', Schema(['Int', 'Int'], 'Int'), None, None, [], None, False))]\n",
            "[Function(FunctionDecl('Int___divmod__', Schema(['Int', 'Int'], 'Int'), None, None, [], None, False))]\n",
            "[Function(FunctionDecl('Int___pow__', Schema(['Int', 'Int'], 'Int'), None, None, [], None, False))]\n",
            "[Function(FunctionDecl('Int___lshift__', Schema(['Int', 'Int'], 'Int'), None, None, [], None, False))]\n",
            "[Function(FunctionDecl('Int___rshift__', Schema(['Int', 'Int'], 'Int'), None, None, [], None, False))]\n",
            "[Function(FunctionDecl('Int___and__', Schema(['Int', 'Int'], 'Int'), None, None, [], None, False))]\n",
            "[Function(FunctionDecl('Int___xor__', Schema(['Int', 'Int'], 'Int'), None, None, [], None, False))]\n",
            "[Function(FunctionDecl('Int___or__', Schema(['Int', 'Int'], 'Int'), None, None, [], None, False))]\n",
            "[Function(FunctionDecl('Int_to_py', Schema(['Int'], 'PyObject'), None, None, [], None, False))]\n",
            "[RewriteCommand('', Rewrite(Call('Int___eq__', [Call('Int___init__', [Var('i')]), Call('Int___init__', [Var('i')])]), Call('TRUE', []), [])), RuleCommand('', '', Rule([Union(Var('r'), Call('FALSE', []))], [Eq([Var('r'), Call('Int___eq__', [Call('Int___init__', [Var('i')]), Call('Int___init__', [Var('j')])])]), Fact(Call('!=', [Var('i'), Var('j')]))])), RewriteCommand('', Rewrite(Call('Int___ge__', [Call('Int___init__', [Var('i')]), Call('Int___init__', [Var('i')])]), Call('TRUE', []), [])), RuleCommand('', '', Rule([Union(Var('r'), Call('TRUE', []))], [Eq([Var('r'), Call('Int___ge__', [Call('Int___init__', [Var('i')]), Call('Int___init__', [Var('j')])])]), Fact(Call('>', [Var('i'), Var('j')]))])), RuleCommand('', '', Rule([Union(Var('r'), Call('FALSE', []))], [Eq([Var('r'), Call('Int___ge__', [Call('Int___init__', [Var('i')]), Call('Int___init__', [Var('j')])])]), Fact(Call('<', [Var('i'), Var('j')]))])), RewriteCommand('', Rewrite(Call('Int___lt__', [Call('Int___init__', [Var('i')]), Call('Int___init__', [Var('i')])]), Call('FALSE', []), [])), RuleCommand('', '', Rule([Union(Var('r'), Call('TRUE', []))], [Eq([Var('r'), Call('Int___lt__', [Call('Int___init__', [Var('i')]), Call('Int___init__', [Var('j')])])]), Fact(Call('<', [Var('i'), Var('j')]))])), RuleCommand('', '', Rule([Union(Var('r'), Call('FALSE', []))], [Eq([Var('r'), Call('Int___lt__', [Call('Int___init__', [Var('i')]), Call('Int___init__', [Var('j')])])]), Fact(Call('>', [Var('i'), Var('j')]))])), RewriteCommand('', Rewrite(Call('Int___gt__', [Call('Int___init__', [Var('i')]), Call('Int___init__', [Var('i')])]), Call('FALSE', []), [])), RuleCommand('', '', Rule([Union(Var('r'), Call('TRUE', []))], [Eq([Var('r'), Call('Int___gt__', [Call('Int___init__', [Var('i')]), Call('Int___init__', [Var('j')])])]), Fact(Call('>', [Var('i'), Var('j')]))])), RuleCommand('', '', Rule([Union(Var('r'), Call('FALSE', []))], [Eq([Var('r'), Call('Int___gt__', [Call('Int___init__', [Var('i')]), Call('Int___init__', [Var('j')])])]), Fact(Call('<', [Var('i'), Var('j')]))])), RuleCommand('', '', Rule([Set('Int_to_py', [Var('o')], Call('py-from-int', [Var('j')]))], [Eq([Var('o'), Call('Int___init__', [Var('j')])])])), RewriteCommand('', Rewrite(Call('Int___add__', [Call('Int___init__', [Var('i')]), Call('Int___init__', [Var('j')])]), Call('Int___init__', [Call('+', [Var('i'), Var('j')])]), [])), RewriteCommand('', Rewrite(Call('Int___sub__', [Call('Int___init__', [Var('i')]), Call('Int___init__', [Var('j')])]), Call('Int___init__', [Call('-', [Var('i'), Var('j')])]), [])), RewriteCommand('', Rewrite(Call('Int___mul__', [Call('Int___init__', [Var('i')]), Call('Int___init__', [Var('j')])]), Call('Int___init__', [Call('*', [Var('i'), Var('j')])]), [])), RewriteCommand('', Rewrite(Call('Int___truediv__', [Call('Int___init__', [Var('i')]), Call('Int___init__', [Var('j')])]), Call('Int___init__', [Call('/', [Var('i'), Var('j')])]), [])), RewriteCommand('', Rewrite(Call('Int___mod__', [Call('Int___init__', [Var('i')]), Call('Int___init__', [Var('j')])]), Call('Int___init__', [Call('%', [Var('i'), Var('j')])]), [])), RewriteCommand('', Rewrite(Call('Int___and__', [Call('Int___init__', [Var('i')]), Call('Int___init__', [Var('j')])]), Call('Int___init__', [Call('&', [Var('i'), Var('j')])]), [])), RewriteCommand('', Rewrite(Call('Int___or__', [Call('Int___init__', [Var('i')]), Call('Int___init__', [Var('j')])]), Call('Int___init__', [Call('|', [Var('i'), Var('j')])]), [])), RewriteCommand('', Rewrite(Call('Int___xor__', [Call('Int___init__', [Var('i')]), Call('Int___init__', [Var('j')])]), Call('Int___init__', [Call('^', [Var('i'), Var('j')])]), [])), RewriteCommand('', Rewrite(Call('Int___lshift__', [Call('Int___init__', [Var('i')]), Call('Int___init__', [Var('j')])]), Call('Int___init__', [Call('<<', [Var('i'), Var('j')])]), [])), RewriteCommand('', Rewrite(Call('Int___rshift__', [Call('Int___init__', [Var('i')]), Call('Int___init__', [Var('j')])]), Call('Int___init__', [Call('>>', [Var('i'), Var('j')])]), [])), RewriteCommand('', Rewrite(Call('Int___invert__', [Call('Int___init__', [Var('i')])]), Call('Int___init__', [Call('not-i64', [Var('i')])]), []))]\n"
          ]
        },
        {
          "ename": "EggSmolError",
          "evalue": "Unbound function py-from-int",
          "output_type": "error",
          "traceback": [
            "\u001b[0;31m---------------------------------------------------------------------------\u001b[0m",
            "\u001b[0;31mEggSmolError\u001b[0m                              Traceback (most recent call last)",
            "\u001b[1;32m/Users/saul/p/egg-smol-python/docs/tutorials/array-api.ipynb Cell 7\u001b[0m line \u001b[0;36m1\n\u001b[0;32m----> <a href='vscode-notebook-cell:/Users/saul/p/egg-smol-python/docs/tutorials/array-api.ipynb#W6sZmlsZQ%3D%3D?line=0'>1</a>\u001b[0m \u001b[39mfrom\u001b[39;00m \u001b[39megglog\u001b[39;00m\u001b[39m.\u001b[39;00m\u001b[39mexp\u001b[39;00m\u001b[39m.\u001b[39;00m\u001b[39marray_api\u001b[39;00m \u001b[39mimport\u001b[39;00m \u001b[39m*\u001b[39m\n\u001b[1;32m      <a href='vscode-notebook-cell:/Users/saul/p/egg-smol-python/docs/tutorials/array-api.ipynb#W6sZmlsZQ%3D%3D?line=3'>4</a>\u001b[0m X_arr \u001b[39m=\u001b[39m NDArray\u001b[39m.\u001b[39mvar(\u001b[39m\"\u001b[39m\u001b[39mX\u001b[39m\u001b[39m\"\u001b[39m)\n\u001b[1;32m      <a href='vscode-notebook-cell:/Users/saul/p/egg-smol-python/docs/tutorials/array-api.ipynb#W6sZmlsZQ%3D%3D?line=4'>5</a>\u001b[0m y_arr \u001b[39m=\u001b[39m NDArray\u001b[39m.\u001b[39mvar(\u001b[39m\"\u001b[39m\u001b[39my\u001b[39m\u001b[39m\"\u001b[39m)\n",
            "File \u001b[0;32m~/p/egg-smol-python/python/egglog/exp/array_api.py:329\u001b[0m\n\u001b[1;32m    323\u001b[0m     \u001b[39m@egraph\u001b[39m\u001b[39m.\u001b[39mmethod(preserve\u001b[39m=\u001b[39m\u001b[39mTrue\u001b[39;00m)\n\u001b[1;32m    324\u001b[0m     \u001b[39mdef\u001b[39;00m \u001b[39m__bool__\u001b[39m(\u001b[39mself\u001b[39m) \u001b[39m-\u001b[39m\u001b[39m>\u001b[39m \u001b[39mbool\u001b[39m:\n\u001b[1;32m    325\u001b[0m         \u001b[39mreturn\u001b[39;00m \u001b[39mself\u001b[39m \u001b[39m!=\u001b[39m Int(\u001b[39m0\u001b[39m)\n\u001b[1;32m    328\u001b[0m \u001b[39m@egraph\u001b[39;49m\u001b[39m.\u001b[39;49mregister\n\u001b[0;32m--> 329\u001b[0m \u001b[39mdef\u001b[39;49;00m \u001b[39m_int\u001b[39;49m(i: i64, j: i64, r: Bool, o: Int):\n\u001b[1;32m    330\u001b[0m     \u001b[39myield\u001b[39;49;00m rewrite(Int(i) \u001b[39m==\u001b[39;49m Int(i))\u001b[39m.\u001b[39;49mto(TRUE)\n\u001b[1;32m    331\u001b[0m     \u001b[39myield\u001b[39;49;00m rule(eq(r)\u001b[39m.\u001b[39;49mto(Int(i) \u001b[39m==\u001b[39;49m Int(j)), i \u001b[39m!=\u001b[39;49m j)\u001b[39m.\u001b[39;49mthen(union(r)\u001b[39m.\u001b[39;49mwith_(FALSE))\n",
            "File \u001b[0;32m~/p/egg-smol-python/python/egglog/egraph.py:528\u001b[0m, in \u001b[0;36m_BaseModule.register\u001b[0;34m(self, command_or_generator, *commands)\u001b[0m\n\u001b[1;32m    526\u001b[0m \u001b[39melse\u001b[39;00m:\n\u001b[1;32m    527\u001b[0m     commands \u001b[39m=\u001b[39m (cast(CommandLike, command_or_generator), \u001b[39m*\u001b[39mcommands)\n\u001b[0;32m--> 528\u001b[0m \u001b[39mself\u001b[39;49m\u001b[39m.\u001b[39;49m_process_commands(_command_like(command)\u001b[39m.\u001b[39;49m_to_egg_command() \u001b[39mfor\u001b[39;49;00m command \u001b[39min\u001b[39;49;00m commands)\n",
            "File \u001b[0;32m~/p/egg-smol-python/python/egglog/egraph.py:657\u001b[0m, in \u001b[0;36mEGraph._process_commands\u001b[0;34m(self, commands)\u001b[0m\n\u001b[1;32m    655\u001b[0m commands \u001b[39m=\u001b[39m \u001b[39mlist\u001b[39m(commands)\n\u001b[1;32m    656\u001b[0m \u001b[39mprint\u001b[39m(commands)\n\u001b[0;32m--> 657\u001b[0m \u001b[39mself\u001b[39;49m\u001b[39m.\u001b[39;49m_egraph\u001b[39m.\u001b[39;49mrun_program(\u001b[39m*\u001b[39;49mcommands)\n",
            "\u001b[0;31mEggSmolError\u001b[0m: Unbound function py-from-int"
          ]
        }
      ],
      "source": [
        "from egglog.exp.array_api import *\n",
        "\n",
        "\n",
        "X_arr = NDArray.var(\"X\")\n",
        "y_arr = NDArray.var(\"y\")\n",
        "\n",
        "# Add values for the constants\n",
        "egraph.register(\n",
        "    rewrite(X_arr.dtype, runtime_ruleset).to(convert(X.dtype, DType)),\n",
        "    rewrite(y_arr.dtype, runtime_ruleset).to(convert(y.dtype, DType)),\n",
        "    rewrite(isfinite(sum(X_arr)).to_bool(), runtime_ruleset).to(TRUE),\n",
        "    rewrite(isfinite(sum(y_arr)).to_bool(), runtime_ruleset).to(TRUE),\n",
        "    rewrite(X_arr.shape, runtime_ruleset).to(convert(X.shape, TupleInt)),\n",
        "    rewrite(y_arr.shape, runtime_ruleset).to(convert(y.shape, TupleInt)),\n",
        "    rewrite(X_arr.size, runtime_ruleset).to(Int(X.size)),\n",
        "    rewrite(y_arr.size, runtime_ruleset).to(Int(y.size)),\n",
        "    rewrite(unique_values(y_arr).shape).to(TupleInt(Int(3))),\n",
        "    rewrite(unique_values(y_arr).size).to(Int(3)),\n",
        ")\n",
        "\n",
        "\n",
        "res = fit(X_arr, y_arr)\n",
        "\n",
        "# X_obj, y_obj = egraph.save_object(X), egraph.save_object(y)\n",
        "\n",
        "# X_arr = NDArray(X_obj)\n",
        "# y_arr = NDArray(y_obj)"
      ]
    },
    {
      "cell_type": "code",
      "execution_count": null,
      "metadata": {},
      "outputs": [],
      "source": [
        "@egraph.register\n",
        "def _optimizations(i: Int):\n",
        "    yield rewrite(sqrt(NDArray.scalar_int(Int(0)))).to(NDArray.scalar_int(Int(0)))\n",
        "    yield rewrite(i * Int(0)).to(Int(0))"
      ]
    },
    {
      "cell_type": "code",
      "execution_count": null,
      "metadata": {},
      "outputs": [
        {
          "data": {
            "text/plain": [
              "_NDArray_1 = zeros(TupleInt(Int(3)) + TupleInt(Int(4)), OptionalDType.some(DType.float64), OptionalDevice.some(NDArray.var(\"X\").device))\n",
              "_MultiAxisIndexKey_1 = MultiAxisIndexKey(MultiAxisIndexKeyItem.slice(Slice()))\n",
              "_IndexKey_1 = IndexKey.multi_axis(MultiAxisIndexKey(MultiAxisIndexKeyItem.int(Int(0))) + _MultiAxisIndexKey_1)\n",
              "_NDArray_1[_IndexKey_1] = mean(NDArray.var(\"X\")[ndarray_index(unique_inverse(NDArray.var(\"y\"))[Int(1)] == NDArray.scalar_int(Int(0)))], OptionalIntOrTuple.int(Int(0)))\n",
              "_IndexKey_2 = IndexKey.multi_axis(MultiAxisIndexKey(MultiAxisIndexKeyItem.int(Int(1))) + _MultiAxisIndexKey_1)\n",
              "_NDArray_1[_IndexKey_2] = mean(NDArray.var(\"X\")[ndarray_index(unique_inverse(NDArray.var(\"y\"))[Int(1)] == NDArray.scalar_int(Int(1)))], OptionalIntOrTuple.int(Int(0)))\n",
              "_IndexKey_3 = IndexKey.multi_axis(MultiAxisIndexKey(MultiAxisIndexKeyItem.int(Int(2))) + _MultiAxisIndexKey_1)\n",
              "_NDArray_1[_IndexKey_3] = mean(NDArray.var(\"X\")[ndarray_index(unique_inverse(NDArray.var(\"y\"))[Int(1)] == NDArray.scalar_int(Int(2)))], OptionalIntOrTuple.int(Int(0)))\n",
              "_NDArray_2 = (astype(unique_counts(NDArray.var(\"y\"))[Int(1)], DType.float64) / NDArray.scalar_float(Float(150.0))) @ _NDArray_1\n",
              "_NDArray_3 = concat(\n",
              "    TupleNDArray(NDArray.var(\"X\")[ndarray_index(NDArray.var(\"y\") == unique_values(NDArray.var(\"y\"))[IndexKey.int(Int(0))])] - _NDArray_1[_IndexKey_1])\n",
              "    + (\n",
              "        TupleNDArray(NDArray.var(\"X\")[ndarray_index(NDArray.var(\"y\") == unique_values(NDArray.var(\"y\"))[IndexKey.int(Int(1))])] - _NDArray_1[_IndexKey_2])\n",
              "        + TupleNDArray(NDArray.var(\"X\")[ndarray_index(NDArray.var(\"y\") == unique_values(NDArray.var(\"y\"))[IndexKey.int(Int(2))])] - _NDArray_1[_IndexKey_3])\n",
              "    ),\n",
              "    OptionalInt.some(Int(0)),\n",
              ")\n",
              "_NDArray_4 = std(_NDArray_3, OptionalIntOrTuple.int(Int(0)))\n",
              "_NDArray_4[ndarray_index(std(_NDArray_3, OptionalIntOrTuple.int(Int(0))) == NDArray.scalar_int(Int(0)))] = NDArray.scalar_float(Float(1.0))\n",
              "_TupleNDArray_1 = svd(NDArray.scalar_int(Int(0)) * (_NDArray_3 / _NDArray_4), FALSE)\n",
              "_Slice_1 = Slice(OptionalInt.none, OptionalInt.some(astype(sum(_TupleNDArray_1[Int(1)] > NDArray.scalar_float(Float(0.0001))), DType.int32).to_int()))\n",
              "_NDArray_5 = (_TupleNDArray_1[Int(2)][IndexKey.multi_axis(MultiAxisIndexKey(MultiAxisIndexKeyItem.slice(_Slice_1)) + _MultiAxisIndexKey_1)] / _NDArray_4).T / _TupleNDArray_1[\n",
              "    Int(1)\n",
              "][IndexKey.slice(_Slice_1)]\n",
              "_TupleNDArray_2 = svd((NDArray.scalar_int(Int(0)) * (_NDArray_1 - _NDArray_2).T).T @ _NDArray_5, FALSE)\n",
              "(\n",
              "    (NDArray.var(\"X\") - _NDArray_2)\n",
              "    @ (\n",
              "        _NDArray_5\n",
              "        @ _TupleNDArray_2[Int(2)].T[\n",
              "            IndexKey.multi_axis(\n",
              "                _MultiAxisIndexKey_1\n",
              "                + MultiAxisIndexKey(\n",
              "                    MultiAxisIndexKeyItem.slice(\n",
              "                        Slice(\n",
              "                            OptionalInt.none,\n",
              "                            OptionalInt.some(\n",
              "                                sum(astype(_TupleNDArray_2[Int(1)] > (NDArray.scalar_float(Float(0.0001)) * _TupleNDArray_2[Int(1)][IndexKey.int(Int(0))]), DType.int32)).to_int()\n",
              "                            ),\n",
              "                        )\n",
              "                    )\n",
              "                )\n",
              "            )\n",
              "        ]\n",
              "    )\n",
              ")[IndexKey.multi_axis(_MultiAxisIndexKey_1 + MultiAxisIndexKey(MultiAxisIndexKeyItem.slice(Slice(OptionalInt.none, OptionalInt.some(Int(2))))))]"
            ]
          },
          "execution_count": 6,
          "metadata": {},
          "output_type": "execute_result"
        }
      ],
      "source": [
        "egraph.run((run(runtime_ruleset, limit=10) + run(limit=10)).saturate())\n",
        "res = egraph.extract(res)\n",
        "res"
      ]
    },
    {
      "cell_type": "code",
      "execution_count": null,
      "metadata": {},
      "outputs": [],
      "source": []
    }
  ],
  "metadata": {
    "kernelspec": {
      "display_name": "Python 3 (ipykernel)",
      "language": "python",
      "name": "python3"
    },
    "language_info": {
      "codemirror_mode": {
        "name": "ipython",
        "version": 3
      },
      "file_extension": ".py",
      "mimetype": "text/x-python",
      "name": "python",
      "nbconvert_exporter": "python",
      "pygments_lexer": "ipython3",
      "version": "3.10.9"
    }
  },
  "nbformat": 4,
  "nbformat_minor": 4
}
