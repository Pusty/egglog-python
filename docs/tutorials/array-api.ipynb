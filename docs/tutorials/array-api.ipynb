{
 "cells": [
  {
   "cell_type": "markdown",
   "metadata": {
    "editable": true,
    "slideshow": {
     "slide_type": ""
    },
    "tags": []
   },
   "source": [
    "# Implenting an Array API to use with Scikit-learn\n",
    "\n",
    "\n",
    "In this tutorial, we will create an object that implements the Array API and use it in the `LinearDiscriminantAnalysis` example that is in the [scikit-learn docs](https://scikit-learn.org/stable/modules/array_api.html)."
   ]
  },
  {
   "cell_type": "markdown",
   "metadata": {},
   "source": [
    "First, let's try LDA with normal numpy arrays.\n",
    "\n",
    "We take a set of input vector and reduce the dimensionality to 1."
   ]
  },
  {
   "cell_type": "code",
   "execution_count": 1,
   "metadata": {},
   "outputs": [],
   "source": [
    "import matplotlib.pyplot as plt\n",
    "\n",
    "from sklearn import datasets\n",
    "from sklearn.discriminant_analysis import LinearDiscriminantAnalysis\n",
    "from sklearn import config_context\n",
    "\n",
    "iris = datasets.load_iris()\n",
    "\n",
    "X = iris.data\n",
    "y = iris.target\n",
    "\n",
    "def fit(X, y):\n",
    "    with config_context(array_api_dispatch=True):\n",
    "        lda = LinearDiscriminantAnalysis(n_components=2)\n",
    "        X_r2 = lda.fit(X, y).transform(X)\n",
    "        return X_r2\n",
    "\n",
    "    target_names = iris.target_names\n",
    "    plt.figure()\n",
    "    colors = [\"navy\", \"turquoise\", \"darkorange\"]\n",
    "\n",
    "    plt.figure()\n",
    "    for color, i, target_name in zip(colors, [0, 1, 2], target_names):\n",
    "        plt.scatter(\n",
    "            X_r2[y == i, 0], X_r2[y == i, 1], alpha=0.8, color=color, label=target_name\n",
    "        )\n",
    "    plt.legend(loc=\"best\", shadow=False, scatterpoints=1)\n",
    "    plt.title(\"LDA of IRIS dataset\")\n",
    "\n",
    "    plt.show()\n",
    "# fit(X, y)"
   ]
  },
  {
   "cell_type": "code",
   "execution_count": null,
   "metadata": {},
   "outputs": [],
   "source": [
    "# import torch\n",
    "\n",
    "# fit(torch.asarray(X), torch.asarray(y))"
   ]
  },
  {
   "cell_type": "markdown",
   "metadata": {},
   "source": [
    "Now let's try to make a NDArray object that implements the Array API."
   ]
  },
  {
   "cell_type": "code",
   "execution_count": null,
   "metadata": {},
   "outputs": [],
   "source": [
    "%load_ext autoreload\n",
    "%autoreload complete"
   ]
  },
  {
   "cell_type": "code",
   "execution_count": null,
   "metadata": {},
   "outputs": [],
   "source": [
    "from egglog.exp.array_api import *\n",
    "\n",
    "\n",
    "X_arr = NDArray.var(\"X\")\n",
    "y_arr = NDArray.var(\"y\")\n",
    "\n",
    "# Add values for the constants\n",
    "egraph.register(\n",
    "    rewrite(X_arr.dtype, runtime_ruleset).to(convert(X.dtype, DType)),\n",
    "    rewrite(y_arr.dtype, runtime_ruleset).to(convert(y.dtype, DType)),\n",
    "    rewrite(isfinite(sum(X_arr)).to_bool(), runtime_ruleset).to(TRUE),\n",
    "    rewrite(isfinite(sum(y_arr)).to_bool(), runtime_ruleset).to(TRUE),\n",
    "    rewrite(X_arr.shape, runtime_ruleset).to(convert(X.shape, TupleInt)),\n",
    "    rewrite(y_arr.shape, runtime_ruleset).to(convert(y.shape, TupleInt)),\n",
    "    rewrite(X_arr.size, runtime_ruleset).to(Int(X.size)),\n",
    "    rewrite(y_arr.size, runtime_ruleset).to(Int(y.size)),\n",
    "    rewrite(unique_values(y_arr).shape).to(TupleInt(Int(3))),\n",
    ")\n",
    "\n",
    "\n",
    "res = fit(X_arr, y_arr)\n",
    "\n",
    "# X_obj, y_obj = egraph.save_object(X), egraph.save_object(y)\n",
    "\n",
    "# X_arr = NDArray(X_obj)\n",
    "# y_arr = NDArray(y_obj)"
   ]
  },
  {
   "cell_type": "code",
   "execution_count": null,
   "metadata": {},
   "outputs": [],
   "source": []
  }
 ],
 "metadata": {
  "kernelspec": {
   "display_name": "Python 3 (ipykernel)",
   "language": "python",
   "name": "python3"
  },
  "language_info": {
   "codemirror_mode": {
    "name": "ipython",
    "version": 3
   },
   "file_extension": ".py",
   "mimetype": "text/x-python",
   "name": "python",
   "nbconvert_exporter": "python",
   "pygments_lexer": "ipython3",
   "version": "3.10.9"
  },
  "mystnb": {
   "execution_mode": "off"
  }
 },
 "nbformat": 4,
 "nbformat_minor": 4
}
