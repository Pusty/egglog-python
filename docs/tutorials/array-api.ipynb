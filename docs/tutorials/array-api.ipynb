{
 "cells": [
  {
   "cell_type": "markdown",
   "metadata": {},
   "source": [
    "# Implenting an Array API to use with Scikit-learn\n",
    "\n",
    "\n",
    "In this tutorial, we will create an object that implements the Array API and use it in the `LinearDiscriminantAnalysis` example that is in the [scikit-learn docs](https://scikit-learn.org/stable/modules/array_api.html)."
   ]
  },
  {
   "cell_type": "markdown",
   "metadata": {},
   "source": [
    "First, let's try LDA with normal numpy arrays.\n",
    "\n",
    "We take a set of input vector and reduce the dimensionality to 1."
   ]
  },
  {
   "cell_type": "code",
   "execution_count": 1,
   "metadata": {},
   "outputs": [],
   "source": [
    "import matplotlib.pyplot as plt\n",
    "\n",
    "from sklearn import datasets\n",
    "from sklearn.discriminant_analysis import LinearDiscriminantAnalysis\n",
    "from sklearn import config_context\n",
    "\n",
    "iris = datasets.load_iris()\n",
    "\n",
    "X = iris.data\n",
    "y = iris.target\n",
    "\n",
    "def fit_and_plot(X, y):\n",
    "    target_names = iris.target_names\n",
    "    with config_context(array_api_dispatch=True):\n",
    "        lda = LinearDiscriminantAnalysis(n_components=2)\n",
    "        X_r2 = lda.fit(X, y).transform(X)\n",
    "\n",
    "\n",
    "    plt.figure()\n",
    "    colors = [\"navy\", \"turquoise\", \"darkorange\"]\n",
    "\n",
    "    plt.figure()\n",
    "    for color, i, target_name in zip(colors, [0, 1, 2], target_names):\n",
    "        plt.scatter(\n",
    "            X_r2[y == i, 0], X_r2[y == i, 1], alpha=0.8, color=color, label=target_name\n",
    "        )\n",
    "    plt.legend(loc=\"best\", shadow=False, scatterpoints=1)\n",
    "    plt.title(\"LDA of IRIS dataset\")\n",
    "\n",
    "    plt.show()\n",
    "# fit_and_plot(X, y)"
   ]
  },
  {
   "cell_type": "code",
   "execution_count": 2,
   "metadata": {},
   "outputs": [],
   "source": [
    "import torch\n",
    "\n",
    "# fit_and_plot(torch.asarray(X), torch.asarray(y))"
   ]
  },
  {
   "cell_type": "markdown",
   "metadata": {},
   "source": [
    "Now let's try to make a NDArray object that implements the Array API."
   ]
  },
  {
   "cell_type": "code",
   "execution_count": 3,
   "metadata": {},
   "outputs": [
    {
     "ename": "AttributeError",
     "evalue": "Class NDArray does not have method ndim",
     "output_type": "error",
     "traceback": [
      "\u001b[0;31m---------------------------------------------------------------------------\u001b[0m",
      "\u001b[0;31mKeyError\u001b[0m                                  Traceback (most recent call last)",
      "File \u001b[0;32m~/p/egg-smol-python/python/egglog/runtime.py:283\u001b[0m, in \u001b[0;36mRuntimeMethod.__post_init__\u001b[0;34m(self)\u001b[0m\n\u001b[1;32m    282\u001b[0m \u001b[39mtry\u001b[39;00m:\n\u001b[0;32m--> 283\u001b[0m     \u001b[39mself\u001b[39m\u001b[39m.\u001b[39m__egg_fn_decl__ \u001b[39m=\u001b[39m \u001b[39mself\u001b[39;49m\u001b[39m.\u001b[39;49m__egg_decls__\u001b[39m.\u001b[39;49mget_function_decl(\u001b[39mself\u001b[39;49m\u001b[39m.\u001b[39;49m__egg_callable_ref__)\n\u001b[1;32m    284\u001b[0m \u001b[39mexcept\u001b[39;00m \u001b[39mKeyError\u001b[39;00m:\n",
      "File \u001b[0;32m~/p/egg-smol-python/python/egglog/declarations.py:204\u001b[0m, in \u001b[0;36mModuleDeclarations.get_function_decl\u001b[0;34m(self, ref)\u001b[0m\n\u001b[1;32m    203\u001b[0m             \u001b[39mpass\u001b[39;00m\n\u001b[0;32m--> 204\u001b[0m     \u001b[39mraise\u001b[39;00m \u001b[39mKeyError\u001b[39;00m(\u001b[39mf\u001b[39m\u001b[39m\"\u001b[39m\u001b[39mFunction \u001b[39m\u001b[39m{\u001b[39;00mref\u001b[39m}\u001b[39;00m\u001b[39m not found\u001b[39m\u001b[39m\"\u001b[39m)\n\u001b[1;32m    205\u001b[0m \u001b[39melse\u001b[39;00m:\n",
      "\u001b[0;31mKeyError\u001b[0m: \"Function MethodRef(class_name='NDArray', method_name='ndim') not found\"",
      "\nDuring handling of the above exception, another exception occurred:\n",
      "\u001b[0;31mAttributeError\u001b[0m                            Traceback (most recent call last)",
      "Cell \u001b[0;32mIn[3], line 83\u001b[0m\n\u001b[1;32m     78\u001b[0m \u001b[39mdef\u001b[39;00m \u001b[39masarray\u001b[39m(a: NDArray, dtype: DType, copy: OptionalBool) \u001b[39m-\u001b[39m\u001b[39m>\u001b[39m NDArray: \u001b[39m.\u001b[39m\u001b[39m.\u001b[39m\u001b[39m.\u001b[39m\n\u001b[1;32m     81\u001b[0m X_obj, y_obj \u001b[39m=\u001b[39m egraph\u001b[39m.\u001b[39msave_object(X), egraph\u001b[39m.\u001b[39msave_object(y)\n\u001b[0;32m---> 83\u001b[0m fit_and_plot(NDArray(X_obj), NDArray(y_obj))\n",
      "Cell \u001b[0;32mIn[1], line 16\u001b[0m, in \u001b[0;36mfit_and_plot\u001b[0;34m(X, y)\u001b[0m\n\u001b[1;32m     14\u001b[0m \u001b[39mwith\u001b[39;00m config_context(array_api_dispatch\u001b[39m=\u001b[39m\u001b[39mTrue\u001b[39;00m):\n\u001b[1;32m     15\u001b[0m     lda \u001b[39m=\u001b[39m LinearDiscriminantAnalysis(n_components\u001b[39m=\u001b[39m\u001b[39m2\u001b[39m)\n\u001b[0;32m---> 16\u001b[0m     X_r2 \u001b[39m=\u001b[39m lda\u001b[39m.\u001b[39;49mfit(X, y)\u001b[39m.\u001b[39mtransform(X)\n\u001b[1;32m     19\u001b[0m plt\u001b[39m.\u001b[39mfigure()\n\u001b[1;32m     20\u001b[0m colors \u001b[39m=\u001b[39m [\u001b[39m\"\u001b[39m\u001b[39mnavy\u001b[39m\u001b[39m\"\u001b[39m, \u001b[39m\"\u001b[39m\u001b[39mturquoise\u001b[39m\u001b[39m\"\u001b[39m, \u001b[39m\"\u001b[39m\u001b[39mdarkorange\u001b[39m\u001b[39m\"\u001b[39m]\n",
      "File \u001b[0;32m/usr/local/Caskroom/miniconda/base/envs/egg-smol-python/lib/python3.10/site-packages/sklearn/base.py:1151\u001b[0m, in \u001b[0;36m_fit_context.<locals>.decorator.<locals>.wrapper\u001b[0;34m(estimator, *args, **kwargs)\u001b[0m\n\u001b[1;32m   1144\u001b[0m     estimator\u001b[39m.\u001b[39m_validate_params()\n\u001b[1;32m   1146\u001b[0m \u001b[39mwith\u001b[39;00m config_context(\n\u001b[1;32m   1147\u001b[0m     skip_parameter_validation\u001b[39m=\u001b[39m(\n\u001b[1;32m   1148\u001b[0m         prefer_skip_nested_validation \u001b[39mor\u001b[39;00m global_skip_validation\n\u001b[1;32m   1149\u001b[0m     )\n\u001b[1;32m   1150\u001b[0m ):\n\u001b[0;32m-> 1151\u001b[0m     \u001b[39mreturn\u001b[39;00m fit_method(estimator, \u001b[39m*\u001b[39;49margs, \u001b[39m*\u001b[39;49m\u001b[39m*\u001b[39;49mkwargs)\n",
      "File \u001b[0;32m/usr/local/Caskroom/miniconda/base/envs/egg-smol-python/lib/python3.10/site-packages/sklearn/discriminant_analysis.py:581\u001b[0m, in \u001b[0;36mLinearDiscriminantAnalysis.fit\u001b[0;34m(self, X, y)\u001b[0m\n\u001b[1;32m    558\u001b[0m \u001b[39m\u001b[39m\u001b[39m\"\"\"Fit the Linear Discriminant Analysis model.\u001b[39;00m\n\u001b[1;32m    559\u001b[0m \n\u001b[1;32m    560\u001b[0m \u001b[39m   .. versionchanged:: 0.19\u001b[39;00m\n\u001b[0;32m   (...)\u001b[0m\n\u001b[1;32m    577\u001b[0m \u001b[39m    Fitted estimator.\u001b[39;00m\n\u001b[1;32m    578\u001b[0m \u001b[39m\"\"\"\u001b[39;00m\n\u001b[1;32m    579\u001b[0m xp, _ \u001b[39m=\u001b[39m get_namespace(X)\n\u001b[0;32m--> 581\u001b[0m X, y \u001b[39m=\u001b[39m \u001b[39mself\u001b[39;49m\u001b[39m.\u001b[39;49m_validate_data(\n\u001b[1;32m    582\u001b[0m     X, y, ensure_min_samples\u001b[39m=\u001b[39;49m\u001b[39m2\u001b[39;49m, dtype\u001b[39m=\u001b[39;49m[xp\u001b[39m.\u001b[39;49mfloat64, xp\u001b[39m.\u001b[39;49mfloat32]\n\u001b[1;32m    583\u001b[0m )\n\u001b[1;32m    584\u001b[0m \u001b[39mself\u001b[39m\u001b[39m.\u001b[39mclasses_ \u001b[39m=\u001b[39m unique_labels(y)\n\u001b[1;32m    585\u001b[0m n_samples, _ \u001b[39m=\u001b[39m X\u001b[39m.\u001b[39mshape\n",
      "File \u001b[0;32m/usr/local/Caskroom/miniconda/base/envs/egg-smol-python/lib/python3.10/site-packages/sklearn/base.py:621\u001b[0m, in \u001b[0;36mBaseEstimator._validate_data\u001b[0;34m(self, X, y, reset, validate_separately, cast_to_ndarray, **check_params)\u001b[0m\n\u001b[1;32m    619\u001b[0m         y \u001b[39m=\u001b[39m check_array(y, input_name\u001b[39m=\u001b[39m\u001b[39m\"\u001b[39m\u001b[39my\u001b[39m\u001b[39m\"\u001b[39m, \u001b[39m*\u001b[39m\u001b[39m*\u001b[39mcheck_y_params)\n\u001b[1;32m    620\u001b[0m     \u001b[39melse\u001b[39;00m:\n\u001b[0;32m--> 621\u001b[0m         X, y \u001b[39m=\u001b[39m check_X_y(X, y, \u001b[39m*\u001b[39;49m\u001b[39m*\u001b[39;49mcheck_params)\n\u001b[1;32m    622\u001b[0m     out \u001b[39m=\u001b[39m X, y\n\u001b[1;32m    624\u001b[0m \u001b[39mif\u001b[39;00m \u001b[39mnot\u001b[39;00m no_val_X \u001b[39mand\u001b[39;00m check_params\u001b[39m.\u001b[39mget(\u001b[39m\"\u001b[39m\u001b[39mensure_2d\u001b[39m\u001b[39m\"\u001b[39m, \u001b[39mTrue\u001b[39;00m):\n",
      "File \u001b[0;32m/usr/local/Caskroom/miniconda/base/envs/egg-smol-python/lib/python3.10/site-packages/sklearn/utils/validation.py:1147\u001b[0m, in \u001b[0;36mcheck_X_y\u001b[0;34m(X, y, accept_sparse, accept_large_sparse, dtype, order, copy, force_all_finite, ensure_2d, allow_nd, multi_output, ensure_min_samples, ensure_min_features, y_numeric, estimator)\u001b[0m\n\u001b[1;32m   1142\u001b[0m         estimator_name \u001b[39m=\u001b[39m _check_estimator_name(estimator)\n\u001b[1;32m   1143\u001b[0m     \u001b[39mraise\u001b[39;00m \u001b[39mValueError\u001b[39;00m(\n\u001b[1;32m   1144\u001b[0m         \u001b[39mf\u001b[39m\u001b[39m\"\u001b[39m\u001b[39m{\u001b[39;00mestimator_name\u001b[39m}\u001b[39;00m\u001b[39m requires y to be passed, but the target y is None\u001b[39m\u001b[39m\"\u001b[39m\n\u001b[1;32m   1145\u001b[0m     )\n\u001b[0;32m-> 1147\u001b[0m X \u001b[39m=\u001b[39m check_array(\n\u001b[1;32m   1148\u001b[0m     X,\n\u001b[1;32m   1149\u001b[0m     accept_sparse\u001b[39m=\u001b[39;49maccept_sparse,\n\u001b[1;32m   1150\u001b[0m     accept_large_sparse\u001b[39m=\u001b[39;49maccept_large_sparse,\n\u001b[1;32m   1151\u001b[0m     dtype\u001b[39m=\u001b[39;49mdtype,\n\u001b[1;32m   1152\u001b[0m     order\u001b[39m=\u001b[39;49morder,\n\u001b[1;32m   1153\u001b[0m     copy\u001b[39m=\u001b[39;49mcopy,\n\u001b[1;32m   1154\u001b[0m     force_all_finite\u001b[39m=\u001b[39;49mforce_all_finite,\n\u001b[1;32m   1155\u001b[0m     ensure_2d\u001b[39m=\u001b[39;49mensure_2d,\n\u001b[1;32m   1156\u001b[0m     allow_nd\u001b[39m=\u001b[39;49mallow_nd,\n\u001b[1;32m   1157\u001b[0m     ensure_min_samples\u001b[39m=\u001b[39;49mensure_min_samples,\n\u001b[1;32m   1158\u001b[0m     ensure_min_features\u001b[39m=\u001b[39;49mensure_min_features,\n\u001b[1;32m   1159\u001b[0m     estimator\u001b[39m=\u001b[39;49mestimator,\n\u001b[1;32m   1160\u001b[0m     input_name\u001b[39m=\u001b[39;49m\u001b[39m\"\u001b[39;49m\u001b[39mX\u001b[39;49m\u001b[39m\"\u001b[39;49m,\n\u001b[1;32m   1161\u001b[0m )\n\u001b[1;32m   1163\u001b[0m y \u001b[39m=\u001b[39m _check_y(y, multi_output\u001b[39m=\u001b[39mmulti_output, y_numeric\u001b[39m=\u001b[39my_numeric, estimator\u001b[39m=\u001b[39mestimator)\n\u001b[1;32m   1165\u001b[0m check_consistent_length(X, y)\n",
      "File \u001b[0;32m/usr/local/Caskroom/miniconda/base/envs/egg-smol-python/lib/python3.10/site-packages/sklearn/utils/validation.py:931\u001b[0m, in \u001b[0;36mcheck_array\u001b[0;34m(array, accept_sparse, accept_large_sparse, dtype, order, copy, force_all_finite, ensure_2d, allow_nd, ensure_min_samples, ensure_min_features, estimator, input_name)\u001b[0m\n\u001b[1;32m    927\u001b[0m _ensure_no_complex_data(array)\n\u001b[1;32m    929\u001b[0m \u001b[39mif\u001b[39;00m ensure_2d:\n\u001b[1;32m    930\u001b[0m     \u001b[39m# If input is scalar raise error\u001b[39;00m\n\u001b[0;32m--> 931\u001b[0m     \u001b[39mif\u001b[39;00m array\u001b[39m.\u001b[39;49mndim \u001b[39m==\u001b[39m \u001b[39m0\u001b[39m:\n\u001b[1;32m    932\u001b[0m         \u001b[39mraise\u001b[39;00m \u001b[39mValueError\u001b[39;00m(\n\u001b[1;32m    933\u001b[0m             \u001b[39m\"\u001b[39m\u001b[39mExpected 2D array, got scalar array instead:\u001b[39m\u001b[39m\\n\u001b[39;00m\u001b[39marray=\u001b[39m\u001b[39m{}\u001b[39;00m\u001b[39m.\u001b[39m\u001b[39m\\n\u001b[39;00m\u001b[39m\"\u001b[39m\n\u001b[1;32m    934\u001b[0m             \u001b[39m\"\u001b[39m\u001b[39mReshape your data either using array.reshape(-1, 1) if \u001b[39m\u001b[39m\"\u001b[39m\n\u001b[1;32m    935\u001b[0m             \u001b[39m\"\u001b[39m\u001b[39myour data has a single feature or array.reshape(1, -1) \u001b[39m\u001b[39m\"\u001b[39m\n\u001b[1;32m    936\u001b[0m             \u001b[39m\"\u001b[39m\u001b[39mif it contains a single sample.\u001b[39m\u001b[39m\"\u001b[39m\u001b[39m.\u001b[39mformat(array)\n\u001b[1;32m    937\u001b[0m         )\n\u001b[1;32m    938\u001b[0m     \u001b[39m# If input is 1D raise error\u001b[39;00m\n",
      "File \u001b[0;32m~/p/egg-smol-python/python/egglog/runtime.py:307\u001b[0m, in \u001b[0;36mRuntimeExpr.__getattr__\u001b[0;34m(self, name)\u001b[0m\n\u001b[1;32m    304\u001b[0m \u001b[39mif\u001b[39;00m name \u001b[39min\u001b[39;00m preserved_methods:\n\u001b[1;32m    305\u001b[0m     \u001b[39mreturn\u001b[39;00m preserved_methods[name]\u001b[39m.\u001b[39m\u001b[39m__get__\u001b[39m(\u001b[39mself\u001b[39m)\n\u001b[0;32m--> 307\u001b[0m \u001b[39mreturn\u001b[39;00m RuntimeMethod(\u001b[39mself\u001b[39;49m\u001b[39m.\u001b[39;49m__egg_decls__, \u001b[39mself\u001b[39;49m\u001b[39m.\u001b[39;49m__egg_typed_expr__, name)\n",
      "File \u001b[0;32m<string>:6\u001b[0m, in \u001b[0;36m__init__\u001b[0;34m(self, __egg_decls__, __egg_typed_expr__, __egg_method_name__)\u001b[0m\n",
      "File \u001b[0;32m~/p/egg-smol-python/python/egglog/runtime.py:285\u001b[0m, in \u001b[0;36mRuntimeMethod.__post_init__\u001b[0;34m(self)\u001b[0m\n\u001b[1;32m    283\u001b[0m     \u001b[39mself\u001b[39m\u001b[39m.\u001b[39m__egg_fn_decl__ \u001b[39m=\u001b[39m \u001b[39mself\u001b[39m\u001b[39m.\u001b[39m__egg_decls__\u001b[39m.\u001b[39mget_function_decl(\u001b[39mself\u001b[39m\u001b[39m.\u001b[39m__egg_callable_ref__)\n\u001b[1;32m    284\u001b[0m \u001b[39mexcept\u001b[39;00m \u001b[39mKeyError\u001b[39;00m:\n\u001b[0;32m--> 285\u001b[0m     \u001b[39mraise\u001b[39;00m \u001b[39mAttributeError\u001b[39;00m(\u001b[39mf\u001b[39m\u001b[39m\"\u001b[39m\u001b[39mClass \u001b[39m\u001b[39m{\u001b[39;00m\u001b[39mself\u001b[39m\u001b[39m.\u001b[39mclass_name\u001b[39m}\u001b[39;00m\u001b[39m does not have method \u001b[39m\u001b[39m{\u001b[39;00m\u001b[39mself\u001b[39m\u001b[39m.\u001b[39m__egg_method_name__\u001b[39m}\u001b[39;00m\u001b[39m\"\u001b[39m)\n",
      "\u001b[0;31mAttributeError\u001b[0m: Class NDArray does not have method ndim"
     ]
    }
   ],
   "source": [
    "from __future__ import annotations\n",
    "import sys\n",
    "from typing import TypeVar, ClassVar\n",
    "\n",
    "from egglog import *\n",
    "\n",
    "egraph = EGraph()\n",
    "\n",
    "T = TypeVar(\"T\", bound=BaseExpr)\n",
    "\n",
    "def simplify(expr: T) -> T:\n",
    "    egraph.register(expr)\n",
    "    egraph.run(run(limit=10).saturate())\n",
    "    return egraph.extract(expr)\n",
    "\n",
    "@egraph.class_\n",
    "class Bool(BaseExpr):\n",
    "\n",
    "    @egraph.method(preserve=True)\n",
    "    def __bool__(self) -> bool:\n",
    "        egraph.register(self)\n",
    "        egraph.run(run(limit=10).saturate())\n",
    "        res = egraph.load_object(egraph.extract(self.to_py()))\n",
    "        assert isinstance(res, bool)\n",
    "        return res\n",
    "    \n",
    "    def to_py(self) -> PyObject:\n",
    "        ...\n",
    "\n",
    "converter(bool, Bool, lambda x: TRUE if x else FALSE)\n",
    "\n",
    "TRUE = egraph.constant(\"TRUE\", Bool)\n",
    "FALSE = egraph.constant(\"FALSE\", Bool)\n",
    "\n",
    "egraph.register(\n",
    "    set_(TRUE.to_py()).to(egraph.save_object(True)),\n",
    "    set_(FALSE.to_py()).to(egraph.save_object(False)),\n",
    ")\n",
    "\n",
    "@egraph.class_\n",
    "class DType(BaseExpr):\n",
    "    ...\n",
    "\n",
    "float64 = egraph.constant(\"float64\", DType)\n",
    "float32 = egraph.constant(\"float32\", DType)\n",
    "\n",
    "@egraph.function\n",
    "def isdtype(dtype: DType, kind: StringLike) -> Bool:\n",
    "    ...\n",
    "\n",
    "egraph.register(\n",
    "    rewrite(isdtype(float64, \"integral\")).to(FALSE),\n",
    "    rewrite(isdtype(float32, \"integral\")).to(FALSE),\n",
    ")\n",
    "\n",
    "assert not bool(isdtype(float64, \"integral\"))\n",
    "\n",
    "\n",
    "\n",
    "@egraph.class_\n",
    "class NDArray(BaseExpr):\n",
    "    def __init__(self, py_array: PyObject) -> None: ...\n",
    "\n",
    "    @egraph.method(preserve=True)\n",
    "    def __array_namespace__(self, api_version=None):\n",
    "        return sys.modules[__name__]\n",
    "\n",
    "@egraph.class_\n",
    "class OptionalBool(BaseExpr):\n",
    "    none: ClassVar[OptionalBool]\n",
    "    @classmethod\n",
    "    def some(cls, value: Bool) -> OptionalBool: ...\n",
    "\n",
    "converter(type(None), OptionalBool, lambda x: OptionalBool.none)\n",
    "converter(bool, OptionalBool, lambda x: OptionalBool.some(convert(x, Bool)))\n",
    "\n",
    "@egraph.function\n",
    "def asarray(a: NDArray, dtype: DType, copy: OptionalBool) -> NDArray: ...\n",
    "\n",
    "\n",
    "X_obj, y_obj = egraph.save_object(X), egraph.save_object(y)\n",
    "\n",
    "fit_and_plot(NDArray(X_obj), NDArray(y_obj))"
   ]
  },
  {
   "cell_type": "code",
   "execution_count": null,
   "metadata": {},
   "outputs": [],
   "source": []
  }
 ],
 "metadata": {
  "kernelspec": {
   "display_name": "egg-smol-python",
   "language": "python",
   "name": "python3"
  },
  "language_info": {
   "codemirror_mode": {
    "name": "ipython",
    "version": 3
   },
   "file_extension": ".py",
   "mimetype": "text/x-python",
   "name": "python",
   "nbconvert_exporter": "python",
   "pygments_lexer": "ipython3",
   "version": "3.10.9"
  },
  "orig_nbformat": 4
 },
 "nbformat": 4,
 "nbformat_minor": 2
}
