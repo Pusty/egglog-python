{
 "cells": [
  {
   "cell_type": "markdown",
   "metadata": {},
   "source": [
    "# Implenting an Array API to use with Scikit-learn\n",
    "\n",
    "\n",
    "In this tutorial, we will create an object that implements the Array API and use it in the `LinearDiscriminantAnalysis` example that is in the [scikit-learn docs](https://scikit-learn.org/stable/modules/array_api.html)."
   ]
  },
  {
   "cell_type": "markdown",
   "metadata": {},
   "source": [
    "First, let's try LDA with normal numpy arrays.\n",
    "\n",
    "We take a set of input vector and reduce the dimensionality to 1."
   ]
  },
  {
   "cell_type": "code",
   "execution_count": 1,
   "metadata": {},
   "outputs": [],
   "source": [
    "import matplotlib.pyplot as plt\n",
    "\n",
    "from sklearn import datasets\n",
    "from sklearn.discriminant_analysis import LinearDiscriminantAnalysis\n",
    "from sklearn import config_context\n",
    "\n",
    "iris = datasets.load_iris()\n",
    "\n",
    "X = iris.data\n",
    "y = iris.target\n",
    "\n",
    "def fit_and_plot(X, y):\n",
    "    target_names = iris.target_names\n",
    "    with config_context(array_api_dispatch=True):\n",
    "        lda = LinearDiscriminantAnalysis(n_components=2)\n",
    "        X_r2 = lda.fit(X, y).transform(X)\n",
    "\n",
    "\n",
    "    plt.figure()\n",
    "    colors = [\"navy\", \"turquoise\", \"darkorange\"]\n",
    "\n",
    "    plt.figure()\n",
    "    for color, i, target_name in zip(colors, [0, 1, 2], target_names):\n",
    "        plt.scatter(\n",
    "            X_r2[y == i, 0], X_r2[y == i, 1], alpha=0.8, color=color, label=target_name\n",
    "        )\n",
    "    plt.legend(loc=\"best\", shadow=False, scatterpoints=1)\n",
    "    plt.title(\"LDA of IRIS dataset\")\n",
    "\n",
    "    plt.show()\n",
    "# fit_and_plot(X, y)"
   ]
  },
  {
   "cell_type": "code",
   "execution_count": 2,
   "metadata": {},
   "outputs": [],
   "source": [
    "import torch\n",
    "\n",
    "# fit_and_plot(torch.asarray(X), torch.asarray(y))"
   ]
  },
  {
   "cell_type": "markdown",
   "metadata": {},
   "source": [
    "Now let's try to make a NDArray object that implements the Array API."
   ]
  },
  {
   "cell_type": "code",
   "execution_count": 10,
   "metadata": {},
   "outputs": [
    {
     "ename": "AttributeError",
     "evalue": "module '__main__' has no attribute 'asarray'",
     "output_type": "error",
     "traceback": [
      "\u001b[0;31m---------------------------------------------------------------------------\u001b[0m",
      "\u001b[0;31mAttributeError\u001b[0m                            Traceback (most recent call last)",
      "Cell \u001b[0;32mIn[10], line 65\u001b[0m\n\u001b[1;32m     61\u001b[0m         \u001b[39mreturn\u001b[39;00m sys\u001b[39m.\u001b[39mmodules[\u001b[39m__name__\u001b[39m]\n\u001b[1;32m     63\u001b[0m X_obj, y_obj \u001b[39m=\u001b[39m egraph\u001b[39m.\u001b[39msave_object(X), egraph\u001b[39m.\u001b[39msave_object(y)\n\u001b[0;32m---> 65\u001b[0m fit_and_plot(NDArray(X_obj), NDArray(y_obj))\n",
      "Cell \u001b[0;32mIn[1], line 16\u001b[0m, in \u001b[0;36mfit_and_plot\u001b[0;34m(X, y)\u001b[0m\n\u001b[1;32m     14\u001b[0m \u001b[39mwith\u001b[39;00m config_context(array_api_dispatch\u001b[39m=\u001b[39m\u001b[39mTrue\u001b[39;00m):\n\u001b[1;32m     15\u001b[0m     lda \u001b[39m=\u001b[39m LinearDiscriminantAnalysis(n_components\u001b[39m=\u001b[39m\u001b[39m2\u001b[39m)\n\u001b[0;32m---> 16\u001b[0m     X_r2 \u001b[39m=\u001b[39m lda\u001b[39m.\u001b[39;49mfit(X, y)\u001b[39m.\u001b[39mtransform(X)\n\u001b[1;32m     19\u001b[0m plt\u001b[39m.\u001b[39mfigure()\n\u001b[1;32m     20\u001b[0m colors \u001b[39m=\u001b[39m [\u001b[39m\"\u001b[39m\u001b[39mnavy\u001b[39m\u001b[39m\"\u001b[39m, \u001b[39m\"\u001b[39m\u001b[39mturquoise\u001b[39m\u001b[39m\"\u001b[39m, \u001b[39m\"\u001b[39m\u001b[39mdarkorange\u001b[39m\u001b[39m\"\u001b[39m]\n",
      "File \u001b[0;32m/usr/local/Caskroom/miniconda/base/envs/egg-smol-python/lib/python3.10/site-packages/sklearn/base.py:1151\u001b[0m, in \u001b[0;36m_fit_context.<locals>.decorator.<locals>.wrapper\u001b[0;34m(estimator, *args, **kwargs)\u001b[0m\n\u001b[1;32m   1144\u001b[0m     estimator\u001b[39m.\u001b[39m_validate_params()\n\u001b[1;32m   1146\u001b[0m \u001b[39mwith\u001b[39;00m config_context(\n\u001b[1;32m   1147\u001b[0m     skip_parameter_validation\u001b[39m=\u001b[39m(\n\u001b[1;32m   1148\u001b[0m         prefer_skip_nested_validation \u001b[39mor\u001b[39;00m global_skip_validation\n\u001b[1;32m   1149\u001b[0m     )\n\u001b[1;32m   1150\u001b[0m ):\n\u001b[0;32m-> 1151\u001b[0m     \u001b[39mreturn\u001b[39;00m fit_method(estimator, \u001b[39m*\u001b[39;49margs, \u001b[39m*\u001b[39;49m\u001b[39m*\u001b[39;49mkwargs)\n",
      "File \u001b[0;32m/usr/local/Caskroom/miniconda/base/envs/egg-smol-python/lib/python3.10/site-packages/sklearn/discriminant_analysis.py:581\u001b[0m, in \u001b[0;36mLinearDiscriminantAnalysis.fit\u001b[0;34m(self, X, y)\u001b[0m\n\u001b[1;32m    558\u001b[0m \u001b[39m\u001b[39m\u001b[39m\"\"\"Fit the Linear Discriminant Analysis model.\u001b[39;00m\n\u001b[1;32m    559\u001b[0m \n\u001b[1;32m    560\u001b[0m \u001b[39m   .. versionchanged:: 0.19\u001b[39;00m\n\u001b[0;32m   (...)\u001b[0m\n\u001b[1;32m    577\u001b[0m \u001b[39m    Fitted estimator.\u001b[39;00m\n\u001b[1;32m    578\u001b[0m \u001b[39m\"\"\"\u001b[39;00m\n\u001b[1;32m    579\u001b[0m xp, _ \u001b[39m=\u001b[39m get_namespace(X)\n\u001b[0;32m--> 581\u001b[0m X, y \u001b[39m=\u001b[39m \u001b[39mself\u001b[39;49m\u001b[39m.\u001b[39;49m_validate_data(\n\u001b[1;32m    582\u001b[0m     X, y, ensure_min_samples\u001b[39m=\u001b[39;49m\u001b[39m2\u001b[39;49m, dtype\u001b[39m=\u001b[39;49m[xp\u001b[39m.\u001b[39;49mfloat64, xp\u001b[39m.\u001b[39;49mfloat32]\n\u001b[1;32m    583\u001b[0m )\n\u001b[1;32m    584\u001b[0m \u001b[39mself\u001b[39m\u001b[39m.\u001b[39mclasses_ \u001b[39m=\u001b[39m unique_labels(y)\n\u001b[1;32m    585\u001b[0m n_samples, _ \u001b[39m=\u001b[39m X\u001b[39m.\u001b[39mshape\n",
      "File \u001b[0;32m/usr/local/Caskroom/miniconda/base/envs/egg-smol-python/lib/python3.10/site-packages/sklearn/base.py:621\u001b[0m, in \u001b[0;36mBaseEstimator._validate_data\u001b[0;34m(self, X, y, reset, validate_separately, cast_to_ndarray, **check_params)\u001b[0m\n\u001b[1;32m    619\u001b[0m         y \u001b[39m=\u001b[39m check_array(y, input_name\u001b[39m=\u001b[39m\u001b[39m\"\u001b[39m\u001b[39my\u001b[39m\u001b[39m\"\u001b[39m, \u001b[39m*\u001b[39m\u001b[39m*\u001b[39mcheck_y_params)\n\u001b[1;32m    620\u001b[0m     \u001b[39melse\u001b[39;00m:\n\u001b[0;32m--> 621\u001b[0m         X, y \u001b[39m=\u001b[39m check_X_y(X, y, \u001b[39m*\u001b[39;49m\u001b[39m*\u001b[39;49mcheck_params)\n\u001b[1;32m    622\u001b[0m     out \u001b[39m=\u001b[39m X, y\n\u001b[1;32m    624\u001b[0m \u001b[39mif\u001b[39;00m \u001b[39mnot\u001b[39;00m no_val_X \u001b[39mand\u001b[39;00m check_params\u001b[39m.\u001b[39mget(\u001b[39m\"\u001b[39m\u001b[39mensure_2d\u001b[39m\u001b[39m\"\u001b[39m, \u001b[39mTrue\u001b[39;00m):\n",
      "File \u001b[0;32m/usr/local/Caskroom/miniconda/base/envs/egg-smol-python/lib/python3.10/site-packages/sklearn/utils/validation.py:1147\u001b[0m, in \u001b[0;36mcheck_X_y\u001b[0;34m(X, y, accept_sparse, accept_large_sparse, dtype, order, copy, force_all_finite, ensure_2d, allow_nd, multi_output, ensure_min_samples, ensure_min_features, y_numeric, estimator)\u001b[0m\n\u001b[1;32m   1142\u001b[0m         estimator_name \u001b[39m=\u001b[39m _check_estimator_name(estimator)\n\u001b[1;32m   1143\u001b[0m     \u001b[39mraise\u001b[39;00m \u001b[39mValueError\u001b[39;00m(\n\u001b[1;32m   1144\u001b[0m         \u001b[39mf\u001b[39m\u001b[39m\"\u001b[39m\u001b[39m{\u001b[39;00mestimator_name\u001b[39m}\u001b[39;00m\u001b[39m requires y to be passed, but the target y is None\u001b[39m\u001b[39m\"\u001b[39m\n\u001b[1;32m   1145\u001b[0m     )\n\u001b[0;32m-> 1147\u001b[0m X \u001b[39m=\u001b[39m check_array(\n\u001b[1;32m   1148\u001b[0m     X,\n\u001b[1;32m   1149\u001b[0m     accept_sparse\u001b[39m=\u001b[39;49maccept_sparse,\n\u001b[1;32m   1150\u001b[0m     accept_large_sparse\u001b[39m=\u001b[39;49maccept_large_sparse,\n\u001b[1;32m   1151\u001b[0m     dtype\u001b[39m=\u001b[39;49mdtype,\n\u001b[1;32m   1152\u001b[0m     order\u001b[39m=\u001b[39;49morder,\n\u001b[1;32m   1153\u001b[0m     copy\u001b[39m=\u001b[39;49mcopy,\n\u001b[1;32m   1154\u001b[0m     force_all_finite\u001b[39m=\u001b[39;49mforce_all_finite,\n\u001b[1;32m   1155\u001b[0m     ensure_2d\u001b[39m=\u001b[39;49mensure_2d,\n\u001b[1;32m   1156\u001b[0m     allow_nd\u001b[39m=\u001b[39;49mallow_nd,\n\u001b[1;32m   1157\u001b[0m     ensure_min_samples\u001b[39m=\u001b[39;49mensure_min_samples,\n\u001b[1;32m   1158\u001b[0m     ensure_min_features\u001b[39m=\u001b[39;49mensure_min_features,\n\u001b[1;32m   1159\u001b[0m     estimator\u001b[39m=\u001b[39;49mestimator,\n\u001b[1;32m   1160\u001b[0m     input_name\u001b[39m=\u001b[39;49m\u001b[39m\"\u001b[39;49m\u001b[39mX\u001b[39;49m\u001b[39m\"\u001b[39;49m,\n\u001b[1;32m   1161\u001b[0m )\n\u001b[1;32m   1163\u001b[0m y \u001b[39m=\u001b[39m _check_y(y, multi_output\u001b[39m=\u001b[39mmulti_output, y_numeric\u001b[39m=\u001b[39my_numeric, estimator\u001b[39m=\u001b[39mestimator)\n\u001b[1;32m   1165\u001b[0m check_consistent_length(X, y)\n",
      "File \u001b[0;32m/usr/local/Caskroom/miniconda/base/envs/egg-smol-python/lib/python3.10/site-packages/sklearn/utils/validation.py:917\u001b[0m, in \u001b[0;36mcheck_array\u001b[0;34m(array, accept_sparse, accept_large_sparse, dtype, order, copy, force_all_finite, ensure_2d, allow_nd, ensure_min_samples, ensure_min_features, estimator, input_name)\u001b[0m\n\u001b[1;32m    915\u001b[0m         array \u001b[39m=\u001b[39m xp\u001b[39m.\u001b[39mastype(array, dtype, copy\u001b[39m=\u001b[39m\u001b[39mFalse\u001b[39;00m)\n\u001b[1;32m    916\u001b[0m     \u001b[39melse\u001b[39;00m:\n\u001b[0;32m--> 917\u001b[0m         array \u001b[39m=\u001b[39m _asarray_with_order(array, order\u001b[39m=\u001b[39;49morder, dtype\u001b[39m=\u001b[39;49mdtype, xp\u001b[39m=\u001b[39;49mxp)\n\u001b[1;32m    918\u001b[0m \u001b[39mexcept\u001b[39;00m ComplexWarning \u001b[39mas\u001b[39;00m complex_warning:\n\u001b[1;32m    919\u001b[0m     \u001b[39mraise\u001b[39;00m \u001b[39mValueError\u001b[39;00m(\n\u001b[1;32m    920\u001b[0m         \u001b[39m\"\u001b[39m\u001b[39mComplex data not supported\u001b[39m\u001b[39m\\n\u001b[39;00m\u001b[39m{}\u001b[39;00m\u001b[39m\\n\u001b[39;00m\u001b[39m\"\u001b[39m\u001b[39m.\u001b[39mformat(array)\n\u001b[1;32m    921\u001b[0m     ) \u001b[39mfrom\u001b[39;00m \u001b[39mcomplex_warning\u001b[39;00m\n",
      "File \u001b[0;32m/usr/local/Caskroom/miniconda/base/envs/egg-smol-python/lib/python3.10/site-packages/sklearn/utils/_array_api.py:386\u001b[0m, in \u001b[0;36m_asarray_with_order\u001b[0;34m(array, dtype, order, copy, xp)\u001b[0m\n\u001b[1;32m    384\u001b[0m     \u001b[39mreturn\u001b[39;00m xp\u001b[39m.\u001b[39masarray(array)\n\u001b[1;32m    385\u001b[0m \u001b[39melse\u001b[39;00m:\n\u001b[0;32m--> 386\u001b[0m     \u001b[39mreturn\u001b[39;00m xp\u001b[39m.\u001b[39;49masarray(array, dtype\u001b[39m=\u001b[39mdtype, copy\u001b[39m=\u001b[39mcopy)\n",
      "\u001b[0;31mAttributeError\u001b[0m: module '__main__' has no attribute 'asarray'"
     ]
    }
   ],
   "source": [
    "from __future__ import annotations\n",
    "import sys\n",
    "from typing import TypeVar\n",
    "\n",
    "from egglog import *\n",
    "\n",
    "egraph = EGraph()\n",
    "\n",
    "T = TypeVar(\"T\", bound=BaseExpr)\n",
    "\n",
    "def simplify(expr: T) -> T:\n",
    "    egraph.register(expr)\n",
    "    egraph.run(run(limit=10).saturate())\n",
    "    return egraph.extract(expr)\n",
    "\n",
    "@egraph.class_\n",
    "class Bool(BaseExpr):\n",
    "    @egraph.method(preserve=True)\n",
    "    def __bool__(self) -> bool:\n",
    "        egraph.register(self)\n",
    "        egraph.run(run(limit=10).saturate())\n",
    "        res = egraph.load_object(egraph.extract(self.to_py()))\n",
    "        assert isinstance(res, bool)\n",
    "        return res\n",
    "    \n",
    "    def to_py(self) -> PyObject:\n",
    "        ...\n",
    "\n",
    "TRUE = egraph.constant(\"TRUE\", Bool)\n",
    "FALSE = egraph.constant(\"FALSE\", Bool)\n",
    "\n",
    "egraph.register(\n",
    "    set_(TRUE.to_py()).to(egraph.save_object(True)),\n",
    "    set_(FALSE.to_py()).to(egraph.save_object(False)),\n",
    ")\n",
    "\n",
    "@egraph.class_\n",
    "class DType(BaseExpr):\n",
    "    ...\n",
    "\n",
    "float64 = egraph.constant(\"float64\", DType)\n",
    "float32 = egraph.constant(\"float32\", DType)\n",
    "\n",
    "@egraph.function\n",
    "def isdtype(dtype: DType, kind: StringLike) -> Bool:\n",
    "    ...\n",
    "\n",
    "egraph.register(\n",
    "    rewrite(isdtype(float64, \"integral\")).to(FALSE),\n",
    "    rewrite(isdtype(float32, \"integral\")).to(FALSE),\n",
    ")\n",
    "\n",
    "assert not bool(isdtype(float64, \"integral\"))\n",
    "\n",
    "\n",
    "\n",
    "@egraph.class_\n",
    "class NDArray(BaseExpr):\n",
    "    def __init__(self, py_array: PyObject) -> None: ...\n",
    "\n",
    "    @egraph.method(preserve=True)\n",
    "    def __array_namespace__(self, api_version=None):\n",
    "        return sys.modules[__name__]\n",
    "\n",
    "@egraph.function\n",
    "def asarray(a: NDArray, dtype: DType, copy: )\n",
    "\n",
    "\n",
    "X_obj, y_obj = egraph.save_object(X), egraph.save_object(y)\n",
    "\n",
    "fit_and_plot(NDArray(X_obj), NDArray(y_obj))"
   ]
  },
  {
   "cell_type": "code",
   "execution_count": null,
   "metadata": {},
   "outputs": [
    {
     "data": {
      "text/plain": [
       "'__main__'"
      ]
     },
     "execution_count": 15,
     "metadata": {},
     "output_type": "execute_result"
    }
   ],
   "source": []
  },
  {
   "cell_type": "code",
   "execution_count": null,
   "metadata": {},
   "outputs": [
    {
     "ename": "TypeError",
     "evalue": "The input is not a supported array type",
     "output_type": "error",
     "traceback": [
      "\u001b[0;31m---------------------------------------------------------------------------\u001b[0m",
      "\u001b[0;31mTypeError\u001b[0m                                 Traceback (most recent call last)",
      "Cell \u001b[0;32mIn[11], line 1\u001b[0m\n\u001b[0;32m----> 1\u001b[0m fit_and_plot(NDArray(X_obj), NDArray(y_obj))\n",
      "Cell \u001b[0;32mIn[1], line 16\u001b[0m, in \u001b[0;36mfit_and_plot\u001b[0;34m(X, y)\u001b[0m\n\u001b[1;32m     14\u001b[0m \u001b[39mwith\u001b[39;00m config_context(array_api_dispatch\u001b[39m=\u001b[39m\u001b[39mTrue\u001b[39;00m):\n\u001b[1;32m     15\u001b[0m     lda \u001b[39m=\u001b[39m LinearDiscriminantAnalysis(n_components\u001b[39m=\u001b[39m\u001b[39m2\u001b[39m)\n\u001b[0;32m---> 16\u001b[0m     X_r2 \u001b[39m=\u001b[39m lda\u001b[39m.\u001b[39;49mfit(X, y)\u001b[39m.\u001b[39mtransform(X)\n\u001b[1;32m     19\u001b[0m plt\u001b[39m.\u001b[39mfigure()\n\u001b[1;32m     20\u001b[0m colors \u001b[39m=\u001b[39m [\u001b[39m\"\u001b[39m\u001b[39mnavy\u001b[39m\u001b[39m\"\u001b[39m, \u001b[39m\"\u001b[39m\u001b[39mturquoise\u001b[39m\u001b[39m\"\u001b[39m, \u001b[39m\"\u001b[39m\u001b[39mdarkorange\u001b[39m\u001b[39m\"\u001b[39m]\n",
      "File \u001b[0;32m/usr/local/Caskroom/miniconda/base/envs/egg-smol-python/lib/python3.10/site-packages/sklearn/base.py:1151\u001b[0m, in \u001b[0;36m_fit_context.<locals>.decorator.<locals>.wrapper\u001b[0;34m(estimator, *args, **kwargs)\u001b[0m\n\u001b[1;32m   1144\u001b[0m     estimator\u001b[39m.\u001b[39m_validate_params()\n\u001b[1;32m   1146\u001b[0m \u001b[39mwith\u001b[39;00m config_context(\n\u001b[1;32m   1147\u001b[0m     skip_parameter_validation\u001b[39m=\u001b[39m(\n\u001b[1;32m   1148\u001b[0m         prefer_skip_nested_validation \u001b[39mor\u001b[39;00m global_skip_validation\n\u001b[1;32m   1149\u001b[0m     )\n\u001b[1;32m   1150\u001b[0m ):\n\u001b[0;32m-> 1151\u001b[0m     \u001b[39mreturn\u001b[39;00m fit_method(estimator, \u001b[39m*\u001b[39;49margs, \u001b[39m*\u001b[39;49m\u001b[39m*\u001b[39;49mkwargs)\n",
      "File \u001b[0;32m/usr/local/Caskroom/miniconda/base/envs/egg-smol-python/lib/python3.10/site-packages/sklearn/discriminant_analysis.py:579\u001b[0m, in \u001b[0;36mLinearDiscriminantAnalysis.fit\u001b[0;34m(self, X, y)\u001b[0m\n\u001b[1;32m    553\u001b[0m \u001b[39m@_fit_context\u001b[39m(\n\u001b[1;32m    554\u001b[0m     \u001b[39m# LinearDiscriminantAnalysis.covariance_estimator is not validated yet\u001b[39;00m\n\u001b[1;32m    555\u001b[0m     prefer_skip_nested_validation\u001b[39m=\u001b[39m\u001b[39mFalse\u001b[39;00m\n\u001b[1;32m    556\u001b[0m )\n\u001b[1;32m    557\u001b[0m \u001b[39mdef\u001b[39;00m \u001b[39mfit\u001b[39m(\u001b[39mself\u001b[39m, X, y):\n\u001b[1;32m    558\u001b[0m \u001b[39m    \u001b[39m\u001b[39m\"\"\"Fit the Linear Discriminant Analysis model.\u001b[39;00m\n\u001b[1;32m    559\u001b[0m \n\u001b[1;32m    560\u001b[0m \u001b[39m       .. versionchanged:: 0.19\u001b[39;00m\n\u001b[0;32m   (...)\u001b[0m\n\u001b[1;32m    577\u001b[0m \u001b[39m        Fitted estimator.\u001b[39;00m\n\u001b[1;32m    578\u001b[0m \u001b[39m    \"\"\"\u001b[39;00m\n\u001b[0;32m--> 579\u001b[0m     xp, _ \u001b[39m=\u001b[39m get_namespace(X)\n\u001b[1;32m    581\u001b[0m     X, y \u001b[39m=\u001b[39m \u001b[39mself\u001b[39m\u001b[39m.\u001b[39m_validate_data(\n\u001b[1;32m    582\u001b[0m         X, y, ensure_min_samples\u001b[39m=\u001b[39m\u001b[39m2\u001b[39m, dtype\u001b[39m=\u001b[39m[xp\u001b[39m.\u001b[39mfloat64, xp\u001b[39m.\u001b[39mfloat32]\n\u001b[1;32m    583\u001b[0m     )\n\u001b[1;32m    584\u001b[0m     \u001b[39mself\u001b[39m\u001b[39m.\u001b[39mclasses_ \u001b[39m=\u001b[39m unique_labels(y)\n",
      "File \u001b[0;32m/usr/local/Caskroom/miniconda/base/envs/egg-smol-python/lib/python3.10/site-packages/sklearn/utils/_array_api.py:344\u001b[0m, in \u001b[0;36mget_namespace\u001b[0;34m(*arrays)\u001b[0m\n\u001b[1;32m    338\u001b[0m \u001b[39m# array-api-compat is a required dependency of scikit-learn only when\u001b[39;00m\n\u001b[1;32m    339\u001b[0m \u001b[39m# configuring `array_api_dispatch=True`. Its import should therefore be\u001b[39;00m\n\u001b[1;32m    340\u001b[0m \u001b[39m# protected by _check_array_api_dispatch to display an informative error\u001b[39;00m\n\u001b[1;32m    341\u001b[0m \u001b[39m# message in case it is missing.\u001b[39;00m\n\u001b[1;32m    342\u001b[0m \u001b[39mimport\u001b[39;00m \u001b[39marray_api_compat\u001b[39;00m\n\u001b[0;32m--> 344\u001b[0m namespace, is_array_api_compliant \u001b[39m=\u001b[39m array_api_compat\u001b[39m.\u001b[39;49mget_namespace(\u001b[39m*\u001b[39;49marrays), \u001b[39mTrue\u001b[39;00m\n\u001b[1;32m    346\u001b[0m \u001b[39mif\u001b[39;00m namespace\u001b[39m.\u001b[39m\u001b[39m__name__\u001b[39m \u001b[39min\u001b[39;00m {\u001b[39m\"\u001b[39m\u001b[39mnumpy.array_api\u001b[39m\u001b[39m\"\u001b[39m, \u001b[39m\"\u001b[39m\u001b[39mcupy.array_api\u001b[39m\u001b[39m\"\u001b[39m}:\n\u001b[1;32m    347\u001b[0m     namespace \u001b[39m=\u001b[39m _ArrayAPIWrapper(namespace)\n",
      "File \u001b[0;32m/usr/local/Caskroom/miniconda/base/envs/egg-smol-python/lib/python3.10/site-packages/array_api_compat/common/_helpers.py:104\u001b[0m, in \u001b[0;36marray_namespace\u001b[0;34m(api_version, _use_compat, *xs)\u001b[0m\n\u001b[1;32m    101\u001b[0m             namespaces\u001b[39m.\u001b[39madd(torch)\n\u001b[1;32m    102\u001b[0m     \u001b[39melse\u001b[39;00m:\n\u001b[1;32m    103\u001b[0m         \u001b[39m# TODO: Support Python scalars?\u001b[39;00m\n\u001b[0;32m--> 104\u001b[0m         \u001b[39mraise\u001b[39;00m \u001b[39mTypeError\u001b[39;00m(\u001b[39m\"\u001b[39m\u001b[39mThe input is not a supported array type\u001b[39m\u001b[39m\"\u001b[39m)\n\u001b[1;32m    106\u001b[0m \u001b[39mif\u001b[39;00m \u001b[39mnot\u001b[39;00m namespaces:\n\u001b[1;32m    107\u001b[0m     \u001b[39mraise\u001b[39;00m \u001b[39mTypeError\u001b[39;00m(\u001b[39m\"\u001b[39m\u001b[39mUnrecognized array input\u001b[39m\u001b[39m\"\u001b[39m)\n",
      "\u001b[0;31mTypeError\u001b[0m: The input is not a supported array type"
     ]
    }
   ],
   "source": []
  },
  {
   "cell_type": "code",
   "execution_count": null,
   "metadata": {},
   "outputs": [],
   "source": []
  }
 ],
 "metadata": {
  "kernelspec": {
   "display_name": "egg-smol-python",
   "language": "python",
   "name": "python3"
  },
  "language_info": {
   "codemirror_mode": {
    "name": "ipython",
    "version": 3
   },
   "file_extension": ".py",
   "mimetype": "text/x-python",
   "name": "python",
   "nbconvert_exporter": "python",
   "pygments_lexer": "ipython3",
   "version": "3.10.9"
  },
  "orig_nbformat": 4
 },
 "nbformat": 4,
 "nbformat_minor": 2
}
